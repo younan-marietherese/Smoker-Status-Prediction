{
  "nbformat": 4,
  "nbformat_minor": 0,
  "metadata": {
    "colab": {
      "provenance": []
    },
    "kernelspec": {
      "name": "python3",
      "display_name": "Python 3"
    },
    "language_info": {
      "name": "python"
    }
  },
  "cells": [
    {
      "cell_type": "markdown",
      "source": [
        "# Smoker Status Prediction"
      ],
      "metadata": {
        "id": "Bjy68kMJaPbq"
      }
    },
    {
      "cell_type": "markdown",
      "source": [
        "## Objective"
      ],
      "metadata": {
        "id": "YwHgd49SaZ0l"
      }
    },
    {
      "cell_type": "markdown",
      "source": [
        "In this challenge, we will:\n",
        "- Explore a U.S. health insurance dataset,\n",
        "\n",
        "- Apply the full machine learning workflow,\n",
        "\n",
        "- And Build a classification model that predicts whether an individual is a\n",
        "smoker based on demographic and health-related features.\n",
        "\n",
        "Task here: Predict whether an individual is a smoker using a health insurance dataset and the full ML workflow."
      ],
      "metadata": {
        "id": "BMs_QOmgacfM"
      }
    },
    {
      "cell_type": "markdown",
      "source": [
        "## Dataset"
      ],
      "metadata": {
        "id": "EBNgpQifasa5"
      }
    },
    {
      "cell_type": "markdown",
      "source": [
        " The [dataset](https://drive.google.com/file/d/13MqmJ3x_qKazNEnhYrkZ5y0PJywNi5Wb/view?usp=sharing) variables include:\n",
        "- age: Age of the beneficiary\n",
        "- sex: Gender (female/male)\n",
        "- bmi: Body Mass Index\n",
        "- children: Number of dependents\n",
        "- region: Residential region\n",
        "- charges: Medical cost\n",
        "- smoker: Whether the individual smokes or not"
      ],
      "metadata": {
        "id": "Yjjelz0GavHC"
      }
    },
    {
      "cell_type": "markdown",
      "source": [
        "## Modeling Approaches and Strategy Overview"
      ],
      "metadata": {
        "id": "TSL7BlyuINus"
      }
    },
    {
      "cell_type": "markdown",
      "source": [
        "Throughout this project, multiple models and strategies were explored including baseline logistic regression, class weighting, SMOTE, hyperparameter tuning with Grid Search, and AdaBoost to identify the best-performing approach for handling class imbalance and accurately predicting smoker status."
      ],
      "metadata": {
        "id": "5EufKGRTHzZN"
      }
    },
    {
      "cell_type": "markdown",
      "source": [
        "1. Standard Logistic Regression: baseline model,\n",
        "\n",
        "2. Balanced Logistic Regression: to handle class imbalance via algorithm-level weighting,\n",
        "\n",
        "3. Grid Search Logistic Regression: to tune hyperparameters and regularization,\n",
        "\n",
        "4. AdaBoost: an ensemble method for boosting performance,\n",
        "\n",
        "5. Logistic Regression with SMOTE: a data-level imbalance solution."
      ],
      "metadata": {
        "id": "72QRgcUIH365"
      }
    },
    {
      "cell_type": "markdown",
      "source": [
        "## 1. Data Loading"
      ],
      "metadata": {
        "id": "YDhHl_F2bUj5"
      }
    },
    {
      "cell_type": "markdown",
      "source": [
        "#### Import necessary python modules\n",
        "\n",
        "We will need the following libraries:\n",
        " - Numpy — for scientific computing (e.g., linear algebra (vectors & matrices)).\n",
        " - Pandas — providing high-performance, easy-to-use data reading, manipulation, and analysis.\n",
        " - Matplotlib — plotting & visualization.\n",
        " - scikit-learn — a tool for data mining and machine learning models."
      ],
      "metadata": {
        "id": "_Qf1fArlbXPj"
      }
    },
    {
      "cell_type": "code",
      "execution_count": null,
      "metadata": {
        "id": "rKdxHPURaCRz"
      },
      "outputs": [],
      "source": [
        "import numpy as np\n",
        "import pandas as pd\n",
        "import matplotlib.pyplot as plt\n",
        "\n",
        "from sklearn.model_selection import train_test_split\n",
        "from sklearn.linear_model import LinearRegression"
      ]
    },
    {
      "cell_type": "markdown",
      "source": [
        "#### Load, Read & Visualize the data\n",
        "Data now is stored on disk in a csv (Comma Separated Values) file. To load the data to our code, we use **pandas** module, more specifically, the **read_csv** function."
      ],
      "metadata": {
        "id": "m0ohpVjZbazv"
      }
    },
    {
      "cell_type": "code",
      "source": [
        "#read CSV file in Pandas\n",
        "data = pd.read_csv('insurance - insurance.csv')\n",
        "\n",
        "#display first 10 rows\n",
        "data.head(10)"
      ],
      "metadata": {
        "colab": {
          "base_uri": "https://localhost:8080/",
          "height": 363
        },
        "id": "-oRElMI-bf8t",
        "outputId": "c26ded07-7395-456f-fa7a-fa631581e592"
      },
      "execution_count": null,
      "outputs": [
        {
          "output_type": "execute_result",
          "data": {
            "text/plain": [
              "   age     sex     bmi  children smoker     region      charges\n",
              "0   19  female  27.900         0    yes  southwest  16884.92400\n",
              "1   18    male  33.770         1     no  southeast   1725.55230\n",
              "2   28    male  33.000         3     no  southeast   4449.46200\n",
              "3   33    male  22.705         0     no  northwest  21984.47061\n",
              "4   32    male  28.880         0     no  northwest   3866.85520\n",
              "5   31  female  25.740         0     no  southeast   3756.62160\n",
              "6   46  female  33.440         1     no  southeast   8240.58960\n",
              "7   37  female  27.740         3     no  northwest   7281.50560\n",
              "8   37    male  29.830         2     no  northeast   6406.41070\n",
              "9   60  female  25.840         0     no  northwest  28923.13692"
            ],
            "text/html": [
              "\n",
              "  <div id=\"df-54abad08-7fec-47d1-89ce-11b1931608f3\" class=\"colab-df-container\">\n",
              "    <div>\n",
              "<style scoped>\n",
              "    .dataframe tbody tr th:only-of-type {\n",
              "        vertical-align: middle;\n",
              "    }\n",
              "\n",
              "    .dataframe tbody tr th {\n",
              "        vertical-align: top;\n",
              "    }\n",
              "\n",
              "    .dataframe thead th {\n",
              "        text-align: right;\n",
              "    }\n",
              "</style>\n",
              "<table border=\"1\" class=\"dataframe\">\n",
              "  <thead>\n",
              "    <tr style=\"text-align: right;\">\n",
              "      <th></th>\n",
              "      <th>age</th>\n",
              "      <th>sex</th>\n",
              "      <th>bmi</th>\n",
              "      <th>children</th>\n",
              "      <th>smoker</th>\n",
              "      <th>region</th>\n",
              "      <th>charges</th>\n",
              "    </tr>\n",
              "  </thead>\n",
              "  <tbody>\n",
              "    <tr>\n",
              "      <th>0</th>\n",
              "      <td>19</td>\n",
              "      <td>female</td>\n",
              "      <td>27.900</td>\n",
              "      <td>0</td>\n",
              "      <td>yes</td>\n",
              "      <td>southwest</td>\n",
              "      <td>16884.92400</td>\n",
              "    </tr>\n",
              "    <tr>\n",
              "      <th>1</th>\n",
              "      <td>18</td>\n",
              "      <td>male</td>\n",
              "      <td>33.770</td>\n",
              "      <td>1</td>\n",
              "      <td>no</td>\n",
              "      <td>southeast</td>\n",
              "      <td>1725.55230</td>\n",
              "    </tr>\n",
              "    <tr>\n",
              "      <th>2</th>\n",
              "      <td>28</td>\n",
              "      <td>male</td>\n",
              "      <td>33.000</td>\n",
              "      <td>3</td>\n",
              "      <td>no</td>\n",
              "      <td>southeast</td>\n",
              "      <td>4449.46200</td>\n",
              "    </tr>\n",
              "    <tr>\n",
              "      <th>3</th>\n",
              "      <td>33</td>\n",
              "      <td>male</td>\n",
              "      <td>22.705</td>\n",
              "      <td>0</td>\n",
              "      <td>no</td>\n",
              "      <td>northwest</td>\n",
              "      <td>21984.47061</td>\n",
              "    </tr>\n",
              "    <tr>\n",
              "      <th>4</th>\n",
              "      <td>32</td>\n",
              "      <td>male</td>\n",
              "      <td>28.880</td>\n",
              "      <td>0</td>\n",
              "      <td>no</td>\n",
              "      <td>northwest</td>\n",
              "      <td>3866.85520</td>\n",
              "    </tr>\n",
              "    <tr>\n",
              "      <th>5</th>\n",
              "      <td>31</td>\n",
              "      <td>female</td>\n",
              "      <td>25.740</td>\n",
              "      <td>0</td>\n",
              "      <td>no</td>\n",
              "      <td>southeast</td>\n",
              "      <td>3756.62160</td>\n",
              "    </tr>\n",
              "    <tr>\n",
              "      <th>6</th>\n",
              "      <td>46</td>\n",
              "      <td>female</td>\n",
              "      <td>33.440</td>\n",
              "      <td>1</td>\n",
              "      <td>no</td>\n",
              "      <td>southeast</td>\n",
              "      <td>8240.58960</td>\n",
              "    </tr>\n",
              "    <tr>\n",
              "      <th>7</th>\n",
              "      <td>37</td>\n",
              "      <td>female</td>\n",
              "      <td>27.740</td>\n",
              "      <td>3</td>\n",
              "      <td>no</td>\n",
              "      <td>northwest</td>\n",
              "      <td>7281.50560</td>\n",
              "    </tr>\n",
              "    <tr>\n",
              "      <th>8</th>\n",
              "      <td>37</td>\n",
              "      <td>male</td>\n",
              "      <td>29.830</td>\n",
              "      <td>2</td>\n",
              "      <td>no</td>\n",
              "      <td>northeast</td>\n",
              "      <td>6406.41070</td>\n",
              "    </tr>\n",
              "    <tr>\n",
              "      <th>9</th>\n",
              "      <td>60</td>\n",
              "      <td>female</td>\n",
              "      <td>25.840</td>\n",
              "      <td>0</td>\n",
              "      <td>no</td>\n",
              "      <td>northwest</td>\n",
              "      <td>28923.13692</td>\n",
              "    </tr>\n",
              "  </tbody>\n",
              "</table>\n",
              "</div>\n",
              "    <div class=\"colab-df-buttons\">\n",
              "\n",
              "  <div class=\"colab-df-container\">\n",
              "    <button class=\"colab-df-convert\" onclick=\"convertToInteractive('df-54abad08-7fec-47d1-89ce-11b1931608f3')\"\n",
              "            title=\"Convert this dataframe to an interactive table.\"\n",
              "            style=\"display:none;\">\n",
              "\n",
              "  <svg xmlns=\"http://www.w3.org/2000/svg\" height=\"24px\" viewBox=\"0 -960 960 960\">\n",
              "    <path d=\"M120-120v-720h720v720H120Zm60-500h600v-160H180v160Zm220 220h160v-160H400v160Zm0 220h160v-160H400v160ZM180-400h160v-160H180v160Zm440 0h160v-160H620v160ZM180-180h160v-160H180v160Zm440 0h160v-160H620v160Z\"/>\n",
              "  </svg>\n",
              "    </button>\n",
              "\n",
              "  <style>\n",
              "    .colab-df-container {\n",
              "      display:flex;\n",
              "      gap: 12px;\n",
              "    }\n",
              "\n",
              "    .colab-df-convert {\n",
              "      background-color: #E8F0FE;\n",
              "      border: none;\n",
              "      border-radius: 50%;\n",
              "      cursor: pointer;\n",
              "      display: none;\n",
              "      fill: #1967D2;\n",
              "      height: 32px;\n",
              "      padding: 0 0 0 0;\n",
              "      width: 32px;\n",
              "    }\n",
              "\n",
              "    .colab-df-convert:hover {\n",
              "      background-color: #E2EBFA;\n",
              "      box-shadow: 0px 1px 2px rgba(60, 64, 67, 0.3), 0px 1px 3px 1px rgba(60, 64, 67, 0.15);\n",
              "      fill: #174EA6;\n",
              "    }\n",
              "\n",
              "    .colab-df-buttons div {\n",
              "      margin-bottom: 4px;\n",
              "    }\n",
              "\n",
              "    [theme=dark] .colab-df-convert {\n",
              "      background-color: #3B4455;\n",
              "      fill: #D2E3FC;\n",
              "    }\n",
              "\n",
              "    [theme=dark] .colab-df-convert:hover {\n",
              "      background-color: #434B5C;\n",
              "      box-shadow: 0px 1px 3px 1px rgba(0, 0, 0, 0.15);\n",
              "      filter: drop-shadow(0px 1px 2px rgba(0, 0, 0, 0.3));\n",
              "      fill: #FFFFFF;\n",
              "    }\n",
              "  </style>\n",
              "\n",
              "    <script>\n",
              "      const buttonEl =\n",
              "        document.querySelector('#df-54abad08-7fec-47d1-89ce-11b1931608f3 button.colab-df-convert');\n",
              "      buttonEl.style.display =\n",
              "        google.colab.kernel.accessAllowed ? 'block' : 'none';\n",
              "\n",
              "      async function convertToInteractive(key) {\n",
              "        const element = document.querySelector('#df-54abad08-7fec-47d1-89ce-11b1931608f3');\n",
              "        const dataTable =\n",
              "          await google.colab.kernel.invokeFunction('convertToInteractive',\n",
              "                                                    [key], {});\n",
              "        if (!dataTable) return;\n",
              "\n",
              "        const docLinkHtml = 'Like what you see? Visit the ' +\n",
              "          '<a target=\"_blank\" href=https://colab.research.google.com/notebooks/data_table.ipynb>data table notebook</a>'\n",
              "          + ' to learn more about interactive tables.';\n",
              "        element.innerHTML = '';\n",
              "        dataTable['output_type'] = 'display_data';\n",
              "        await google.colab.output.renderOutput(dataTable, element);\n",
              "        const docLink = document.createElement('div');\n",
              "        docLink.innerHTML = docLinkHtml;\n",
              "        element.appendChild(docLink);\n",
              "      }\n",
              "    </script>\n",
              "  </div>\n",
              "\n",
              "\n",
              "    <div id=\"df-7935bd5a-a676-43b4-8227-3b37af5e3e63\">\n",
              "      <button class=\"colab-df-quickchart\" onclick=\"quickchart('df-7935bd5a-a676-43b4-8227-3b37af5e3e63')\"\n",
              "                title=\"Suggest charts\"\n",
              "                style=\"display:none;\">\n",
              "\n",
              "<svg xmlns=\"http://www.w3.org/2000/svg\" height=\"24px\"viewBox=\"0 0 24 24\"\n",
              "     width=\"24px\">\n",
              "    <g>\n",
              "        <path d=\"M19 3H5c-1.1 0-2 .9-2 2v14c0 1.1.9 2 2 2h14c1.1 0 2-.9 2-2V5c0-1.1-.9-2-2-2zM9 17H7v-7h2v7zm4 0h-2V7h2v10zm4 0h-2v-4h2v4z\"/>\n",
              "    </g>\n",
              "</svg>\n",
              "      </button>\n",
              "\n",
              "<style>\n",
              "  .colab-df-quickchart {\n",
              "      --bg-color: #E8F0FE;\n",
              "      --fill-color: #1967D2;\n",
              "      --hover-bg-color: #E2EBFA;\n",
              "      --hover-fill-color: #174EA6;\n",
              "      --disabled-fill-color: #AAA;\n",
              "      --disabled-bg-color: #DDD;\n",
              "  }\n",
              "\n",
              "  [theme=dark] .colab-df-quickchart {\n",
              "      --bg-color: #3B4455;\n",
              "      --fill-color: #D2E3FC;\n",
              "      --hover-bg-color: #434B5C;\n",
              "      --hover-fill-color: #FFFFFF;\n",
              "      --disabled-bg-color: #3B4455;\n",
              "      --disabled-fill-color: #666;\n",
              "  }\n",
              "\n",
              "  .colab-df-quickchart {\n",
              "    background-color: var(--bg-color);\n",
              "    border: none;\n",
              "    border-radius: 50%;\n",
              "    cursor: pointer;\n",
              "    display: none;\n",
              "    fill: var(--fill-color);\n",
              "    height: 32px;\n",
              "    padding: 0;\n",
              "    width: 32px;\n",
              "  }\n",
              "\n",
              "  .colab-df-quickchart:hover {\n",
              "    background-color: var(--hover-bg-color);\n",
              "    box-shadow: 0 1px 2px rgba(60, 64, 67, 0.3), 0 1px 3px 1px rgba(60, 64, 67, 0.15);\n",
              "    fill: var(--button-hover-fill-color);\n",
              "  }\n",
              "\n",
              "  .colab-df-quickchart-complete:disabled,\n",
              "  .colab-df-quickchart-complete:disabled:hover {\n",
              "    background-color: var(--disabled-bg-color);\n",
              "    fill: var(--disabled-fill-color);\n",
              "    box-shadow: none;\n",
              "  }\n",
              "\n",
              "  .colab-df-spinner {\n",
              "    border: 2px solid var(--fill-color);\n",
              "    border-color: transparent;\n",
              "    border-bottom-color: var(--fill-color);\n",
              "    animation:\n",
              "      spin 1s steps(1) infinite;\n",
              "  }\n",
              "\n",
              "  @keyframes spin {\n",
              "    0% {\n",
              "      border-color: transparent;\n",
              "      border-bottom-color: var(--fill-color);\n",
              "      border-left-color: var(--fill-color);\n",
              "    }\n",
              "    20% {\n",
              "      border-color: transparent;\n",
              "      border-left-color: var(--fill-color);\n",
              "      border-top-color: var(--fill-color);\n",
              "    }\n",
              "    30% {\n",
              "      border-color: transparent;\n",
              "      border-left-color: var(--fill-color);\n",
              "      border-top-color: var(--fill-color);\n",
              "      border-right-color: var(--fill-color);\n",
              "    }\n",
              "    40% {\n",
              "      border-color: transparent;\n",
              "      border-right-color: var(--fill-color);\n",
              "      border-top-color: var(--fill-color);\n",
              "    }\n",
              "    60% {\n",
              "      border-color: transparent;\n",
              "      border-right-color: var(--fill-color);\n",
              "    }\n",
              "    80% {\n",
              "      border-color: transparent;\n",
              "      border-right-color: var(--fill-color);\n",
              "      border-bottom-color: var(--fill-color);\n",
              "    }\n",
              "    90% {\n",
              "      border-color: transparent;\n",
              "      border-bottom-color: var(--fill-color);\n",
              "    }\n",
              "  }\n",
              "</style>\n",
              "\n",
              "      <script>\n",
              "        async function quickchart(key) {\n",
              "          const quickchartButtonEl =\n",
              "            document.querySelector('#' + key + ' button');\n",
              "          quickchartButtonEl.disabled = true;  // To prevent multiple clicks.\n",
              "          quickchartButtonEl.classList.add('colab-df-spinner');\n",
              "          try {\n",
              "            const charts = await google.colab.kernel.invokeFunction(\n",
              "                'suggestCharts', [key], {});\n",
              "          } catch (error) {\n",
              "            console.error('Error during call to suggestCharts:', error);\n",
              "          }\n",
              "          quickchartButtonEl.classList.remove('colab-df-spinner');\n",
              "          quickchartButtonEl.classList.add('colab-df-quickchart-complete');\n",
              "        }\n",
              "        (() => {\n",
              "          let quickchartButtonEl =\n",
              "            document.querySelector('#df-7935bd5a-a676-43b4-8227-3b37af5e3e63 button');\n",
              "          quickchartButtonEl.style.display =\n",
              "            google.colab.kernel.accessAllowed ? 'block' : 'none';\n",
              "        })();\n",
              "      </script>\n",
              "    </div>\n",
              "\n",
              "    </div>\n",
              "  </div>\n"
            ],
            "application/vnd.google.colaboratory.intrinsic+json": {
              "type": "dataframe",
              "variable_name": "data",
              "summary": "{\n  \"name\": \"data\",\n  \"rows\": 1338,\n  \"fields\": [\n    {\n      \"column\": \"age\",\n      \"properties\": {\n        \"dtype\": \"number\",\n        \"std\": 14,\n        \"min\": 18,\n        \"max\": 64,\n        \"num_unique_values\": 47,\n        \"samples\": [\n          21,\n          45,\n          36\n        ],\n        \"semantic_type\": \"\",\n        \"description\": \"\"\n      }\n    },\n    {\n      \"column\": \"sex\",\n      \"properties\": {\n        \"dtype\": \"category\",\n        \"num_unique_values\": 2,\n        \"samples\": [\n          \"male\",\n          \"female\"\n        ],\n        \"semantic_type\": \"\",\n        \"description\": \"\"\n      }\n    },\n    {\n      \"column\": \"bmi\",\n      \"properties\": {\n        \"dtype\": \"number\",\n        \"std\": 6.1010383695987755,\n        \"min\": 15.96,\n        \"max\": 53.13,\n        \"num_unique_values\": 548,\n        \"samples\": [\n          23.18,\n          26.885\n        ],\n        \"semantic_type\": \"\",\n        \"description\": \"\"\n      }\n    },\n    {\n      \"column\": \"children\",\n      \"properties\": {\n        \"dtype\": \"number\",\n        \"std\": 1,\n        \"min\": 0,\n        \"max\": 5,\n        \"num_unique_values\": 6,\n        \"samples\": [\n          0,\n          1\n        ],\n        \"semantic_type\": \"\",\n        \"description\": \"\"\n      }\n    },\n    {\n      \"column\": \"smoker\",\n      \"properties\": {\n        \"dtype\": \"category\",\n        \"num_unique_values\": 2,\n        \"samples\": [\n          \"no\",\n          \"yes\"\n        ],\n        \"semantic_type\": \"\",\n        \"description\": \"\"\n      }\n    },\n    {\n      \"column\": \"region\",\n      \"properties\": {\n        \"dtype\": \"category\",\n        \"num_unique_values\": 4,\n        \"samples\": [\n          \"southeast\",\n          \"northeast\"\n        ],\n        \"semantic_type\": \"\",\n        \"description\": \"\"\n      }\n    },\n    {\n      \"column\": \"charges\",\n      \"properties\": {\n        \"dtype\": \"number\",\n        \"std\": 12110.011236693994,\n        \"min\": 1121.8739,\n        \"max\": 63770.42801,\n        \"num_unique_values\": 1337,\n        \"samples\": [\n          8688.85885,\n          5708.867\n        ],\n        \"semantic_type\": \"\",\n        \"description\": \"\"\n      }\n    }\n  ]\n}"
            }
          },
          "metadata": {},
          "execution_count": 2
        }
      ]
    },
    {
      "cell_type": "markdown",
      "source": [
        "## 2. Exploratory Data Analysis\n",
        "\n",
        "Let's dig deeper & understand our data"
      ],
      "metadata": {
        "id": "sEsvybHZbsIq"
      }
    },
    {
      "cell_type": "code",
      "source": [
        "#get the number of rows and columns\n",
        "rows = data.shape[0]\n",
        "columns = data.shape[1]\n",
        "\n",
        "print('There are {} rows and {} columns.'.format(rows,columns))"
      ],
      "metadata": {
        "colab": {
          "base_uri": "https://localhost:8080/"
        },
        "id": "yW8zke61bsef",
        "outputId": "51e7e04d-6910-4913-d17b-8fa42c6d67b3"
      },
      "execution_count": null,
      "outputs": [
        {
          "output_type": "stream",
          "name": "stdout",
          "text": [
            "There are 1338 rows and 7 columns.\n"
          ]
        }
      ]
    },
    {
      "cell_type": "markdown",
      "source": [
        "Using the function **info()**, we can check:\n",
        " - data types (int, float, or object (e.g., string))\n",
        " - missing values\n",
        " - memory usage\n",
        " - number of rows and columns"
      ],
      "metadata": {
        "id": "iJYHfZtEbwLw"
      }
    },
    {
      "cell_type": "code",
      "source": [
        "data.info()"
      ],
      "metadata": {
        "colab": {
          "base_uri": "https://localhost:8080/"
        },
        "id": "eA1ySMJBbweJ",
        "outputId": "1fae9a57-9b3c-467a-b5bc-f2f352e55c52"
      },
      "execution_count": null,
      "outputs": [
        {
          "output_type": "stream",
          "name": "stdout",
          "text": [
            "<class 'pandas.core.frame.DataFrame'>\n",
            "RangeIndex: 1338 entries, 0 to 1337\n",
            "Data columns (total 7 columns):\n",
            " #   Column    Non-Null Count  Dtype  \n",
            "---  ------    --------------  -----  \n",
            " 0   age       1338 non-null   int64  \n",
            " 1   sex       1338 non-null   object \n",
            " 2   bmi       1335 non-null   float64\n",
            " 3   children  1338 non-null   int64  \n",
            " 4   smoker    1338 non-null   object \n",
            " 5   region    1338 non-null   object \n",
            " 6   charges   1338 non-null   float64\n",
            "dtypes: float64(2), int64(2), object(3)\n",
            "memory usage: 73.3+ KB\n"
          ]
        }
      ]
    },
    {
      "cell_type": "markdown",
      "source": [
        "Using the function **describe()**, we can check the mean, standard deviation, maximum, and minimum of each numerical feature (column)"
      ],
      "metadata": {
        "id": "HoaTgH_zbx8K"
      }
    },
    {
      "cell_type": "code",
      "source": [
        "data.describe()"
      ],
      "metadata": {
        "colab": {
          "base_uri": "https://localhost:8080/",
          "height": 300
        },
        "id": "s8yL90g0bz2c",
        "outputId": "f88b2e98-8b12-4480-f336-dec7038234cb"
      },
      "execution_count": null,
      "outputs": [
        {
          "output_type": "execute_result",
          "data": {
            "text/plain": [
              "               age          bmi     children       charges\n",
              "count  1338.000000  1335.000000  1338.000000   1338.000000\n",
              "mean     39.207025    30.661423     1.094918  13270.422265\n",
              "std      14.049960     6.101038     1.205493  12110.011237\n",
              "min      18.000000    15.960000     0.000000   1121.873900\n",
              "25%      27.000000    26.302500     0.000000   4740.287150\n",
              "50%      39.000000    30.400000     1.000000   9382.033000\n",
              "75%      51.000000    34.687500     2.000000  16639.912515\n",
              "max      64.000000    53.130000     5.000000  63770.428010"
            ],
            "text/html": [
              "\n",
              "  <div id=\"df-9aa93fdf-6cb5-43c4-94e1-1e17d2c61b50\" class=\"colab-df-container\">\n",
              "    <div>\n",
              "<style scoped>\n",
              "    .dataframe tbody tr th:only-of-type {\n",
              "        vertical-align: middle;\n",
              "    }\n",
              "\n",
              "    .dataframe tbody tr th {\n",
              "        vertical-align: top;\n",
              "    }\n",
              "\n",
              "    .dataframe thead th {\n",
              "        text-align: right;\n",
              "    }\n",
              "</style>\n",
              "<table border=\"1\" class=\"dataframe\">\n",
              "  <thead>\n",
              "    <tr style=\"text-align: right;\">\n",
              "      <th></th>\n",
              "      <th>age</th>\n",
              "      <th>bmi</th>\n",
              "      <th>children</th>\n",
              "      <th>charges</th>\n",
              "    </tr>\n",
              "  </thead>\n",
              "  <tbody>\n",
              "    <tr>\n",
              "      <th>count</th>\n",
              "      <td>1338.000000</td>\n",
              "      <td>1335.000000</td>\n",
              "      <td>1338.000000</td>\n",
              "      <td>1338.000000</td>\n",
              "    </tr>\n",
              "    <tr>\n",
              "      <th>mean</th>\n",
              "      <td>39.207025</td>\n",
              "      <td>30.661423</td>\n",
              "      <td>1.094918</td>\n",
              "      <td>13270.422265</td>\n",
              "    </tr>\n",
              "    <tr>\n",
              "      <th>std</th>\n",
              "      <td>14.049960</td>\n",
              "      <td>6.101038</td>\n",
              "      <td>1.205493</td>\n",
              "      <td>12110.011237</td>\n",
              "    </tr>\n",
              "    <tr>\n",
              "      <th>min</th>\n",
              "      <td>18.000000</td>\n",
              "      <td>15.960000</td>\n",
              "      <td>0.000000</td>\n",
              "      <td>1121.873900</td>\n",
              "    </tr>\n",
              "    <tr>\n",
              "      <th>25%</th>\n",
              "      <td>27.000000</td>\n",
              "      <td>26.302500</td>\n",
              "      <td>0.000000</td>\n",
              "      <td>4740.287150</td>\n",
              "    </tr>\n",
              "    <tr>\n",
              "      <th>50%</th>\n",
              "      <td>39.000000</td>\n",
              "      <td>30.400000</td>\n",
              "      <td>1.000000</td>\n",
              "      <td>9382.033000</td>\n",
              "    </tr>\n",
              "    <tr>\n",
              "      <th>75%</th>\n",
              "      <td>51.000000</td>\n",
              "      <td>34.687500</td>\n",
              "      <td>2.000000</td>\n",
              "      <td>16639.912515</td>\n",
              "    </tr>\n",
              "    <tr>\n",
              "      <th>max</th>\n",
              "      <td>64.000000</td>\n",
              "      <td>53.130000</td>\n",
              "      <td>5.000000</td>\n",
              "      <td>63770.428010</td>\n",
              "    </tr>\n",
              "  </tbody>\n",
              "</table>\n",
              "</div>\n",
              "    <div class=\"colab-df-buttons\">\n",
              "\n",
              "  <div class=\"colab-df-container\">\n",
              "    <button class=\"colab-df-convert\" onclick=\"convertToInteractive('df-9aa93fdf-6cb5-43c4-94e1-1e17d2c61b50')\"\n",
              "            title=\"Convert this dataframe to an interactive table.\"\n",
              "            style=\"display:none;\">\n",
              "\n",
              "  <svg xmlns=\"http://www.w3.org/2000/svg\" height=\"24px\" viewBox=\"0 -960 960 960\">\n",
              "    <path d=\"M120-120v-720h720v720H120Zm60-500h600v-160H180v160Zm220 220h160v-160H400v160Zm0 220h160v-160H400v160ZM180-400h160v-160H180v160Zm440 0h160v-160H620v160ZM180-180h160v-160H180v160Zm440 0h160v-160H620v160Z\"/>\n",
              "  </svg>\n",
              "    </button>\n",
              "\n",
              "  <style>\n",
              "    .colab-df-container {\n",
              "      display:flex;\n",
              "      gap: 12px;\n",
              "    }\n",
              "\n",
              "    .colab-df-convert {\n",
              "      background-color: #E8F0FE;\n",
              "      border: none;\n",
              "      border-radius: 50%;\n",
              "      cursor: pointer;\n",
              "      display: none;\n",
              "      fill: #1967D2;\n",
              "      height: 32px;\n",
              "      padding: 0 0 0 0;\n",
              "      width: 32px;\n",
              "    }\n",
              "\n",
              "    .colab-df-convert:hover {\n",
              "      background-color: #E2EBFA;\n",
              "      box-shadow: 0px 1px 2px rgba(60, 64, 67, 0.3), 0px 1px 3px 1px rgba(60, 64, 67, 0.15);\n",
              "      fill: #174EA6;\n",
              "    }\n",
              "\n",
              "    .colab-df-buttons div {\n",
              "      margin-bottom: 4px;\n",
              "    }\n",
              "\n",
              "    [theme=dark] .colab-df-convert {\n",
              "      background-color: #3B4455;\n",
              "      fill: #D2E3FC;\n",
              "    }\n",
              "\n",
              "    [theme=dark] .colab-df-convert:hover {\n",
              "      background-color: #434B5C;\n",
              "      box-shadow: 0px 1px 3px 1px rgba(0, 0, 0, 0.15);\n",
              "      filter: drop-shadow(0px 1px 2px rgba(0, 0, 0, 0.3));\n",
              "      fill: #FFFFFF;\n",
              "    }\n",
              "  </style>\n",
              "\n",
              "    <script>\n",
              "      const buttonEl =\n",
              "        document.querySelector('#df-9aa93fdf-6cb5-43c4-94e1-1e17d2c61b50 button.colab-df-convert');\n",
              "      buttonEl.style.display =\n",
              "        google.colab.kernel.accessAllowed ? 'block' : 'none';\n",
              "\n",
              "      async function convertToInteractive(key) {\n",
              "        const element = document.querySelector('#df-9aa93fdf-6cb5-43c4-94e1-1e17d2c61b50');\n",
              "        const dataTable =\n",
              "          await google.colab.kernel.invokeFunction('convertToInteractive',\n",
              "                                                    [key], {});\n",
              "        if (!dataTable) return;\n",
              "\n",
              "        const docLinkHtml = 'Like what you see? Visit the ' +\n",
              "          '<a target=\"_blank\" href=https://colab.research.google.com/notebooks/data_table.ipynb>data table notebook</a>'\n",
              "          + ' to learn more about interactive tables.';\n",
              "        element.innerHTML = '';\n",
              "        dataTable['output_type'] = 'display_data';\n",
              "        await google.colab.output.renderOutput(dataTable, element);\n",
              "        const docLink = document.createElement('div');\n",
              "        docLink.innerHTML = docLinkHtml;\n",
              "        element.appendChild(docLink);\n",
              "      }\n",
              "    </script>\n",
              "  </div>\n",
              "\n",
              "\n",
              "    <div id=\"df-79609f58-f463-4501-94fb-28791ce39cbf\">\n",
              "      <button class=\"colab-df-quickchart\" onclick=\"quickchart('df-79609f58-f463-4501-94fb-28791ce39cbf')\"\n",
              "                title=\"Suggest charts\"\n",
              "                style=\"display:none;\">\n",
              "\n",
              "<svg xmlns=\"http://www.w3.org/2000/svg\" height=\"24px\"viewBox=\"0 0 24 24\"\n",
              "     width=\"24px\">\n",
              "    <g>\n",
              "        <path d=\"M19 3H5c-1.1 0-2 .9-2 2v14c0 1.1.9 2 2 2h14c1.1 0 2-.9 2-2V5c0-1.1-.9-2-2-2zM9 17H7v-7h2v7zm4 0h-2V7h2v10zm4 0h-2v-4h2v4z\"/>\n",
              "    </g>\n",
              "</svg>\n",
              "      </button>\n",
              "\n",
              "<style>\n",
              "  .colab-df-quickchart {\n",
              "      --bg-color: #E8F0FE;\n",
              "      --fill-color: #1967D2;\n",
              "      --hover-bg-color: #E2EBFA;\n",
              "      --hover-fill-color: #174EA6;\n",
              "      --disabled-fill-color: #AAA;\n",
              "      --disabled-bg-color: #DDD;\n",
              "  }\n",
              "\n",
              "  [theme=dark] .colab-df-quickchart {\n",
              "      --bg-color: #3B4455;\n",
              "      --fill-color: #D2E3FC;\n",
              "      --hover-bg-color: #434B5C;\n",
              "      --hover-fill-color: #FFFFFF;\n",
              "      --disabled-bg-color: #3B4455;\n",
              "      --disabled-fill-color: #666;\n",
              "  }\n",
              "\n",
              "  .colab-df-quickchart {\n",
              "    background-color: var(--bg-color);\n",
              "    border: none;\n",
              "    border-radius: 50%;\n",
              "    cursor: pointer;\n",
              "    display: none;\n",
              "    fill: var(--fill-color);\n",
              "    height: 32px;\n",
              "    padding: 0;\n",
              "    width: 32px;\n",
              "  }\n",
              "\n",
              "  .colab-df-quickchart:hover {\n",
              "    background-color: var(--hover-bg-color);\n",
              "    box-shadow: 0 1px 2px rgba(60, 64, 67, 0.3), 0 1px 3px 1px rgba(60, 64, 67, 0.15);\n",
              "    fill: var(--button-hover-fill-color);\n",
              "  }\n",
              "\n",
              "  .colab-df-quickchart-complete:disabled,\n",
              "  .colab-df-quickchart-complete:disabled:hover {\n",
              "    background-color: var(--disabled-bg-color);\n",
              "    fill: var(--disabled-fill-color);\n",
              "    box-shadow: none;\n",
              "  }\n",
              "\n",
              "  .colab-df-spinner {\n",
              "    border: 2px solid var(--fill-color);\n",
              "    border-color: transparent;\n",
              "    border-bottom-color: var(--fill-color);\n",
              "    animation:\n",
              "      spin 1s steps(1) infinite;\n",
              "  }\n",
              "\n",
              "  @keyframes spin {\n",
              "    0% {\n",
              "      border-color: transparent;\n",
              "      border-bottom-color: var(--fill-color);\n",
              "      border-left-color: var(--fill-color);\n",
              "    }\n",
              "    20% {\n",
              "      border-color: transparent;\n",
              "      border-left-color: var(--fill-color);\n",
              "      border-top-color: var(--fill-color);\n",
              "    }\n",
              "    30% {\n",
              "      border-color: transparent;\n",
              "      border-left-color: var(--fill-color);\n",
              "      border-top-color: var(--fill-color);\n",
              "      border-right-color: var(--fill-color);\n",
              "    }\n",
              "    40% {\n",
              "      border-color: transparent;\n",
              "      border-right-color: var(--fill-color);\n",
              "      border-top-color: var(--fill-color);\n",
              "    }\n",
              "    60% {\n",
              "      border-color: transparent;\n",
              "      border-right-color: var(--fill-color);\n",
              "    }\n",
              "    80% {\n",
              "      border-color: transparent;\n",
              "      border-right-color: var(--fill-color);\n",
              "      border-bottom-color: var(--fill-color);\n",
              "    }\n",
              "    90% {\n",
              "      border-color: transparent;\n",
              "      border-bottom-color: var(--fill-color);\n",
              "    }\n",
              "  }\n",
              "</style>\n",
              "\n",
              "      <script>\n",
              "        async function quickchart(key) {\n",
              "          const quickchartButtonEl =\n",
              "            document.querySelector('#' + key + ' button');\n",
              "          quickchartButtonEl.disabled = true;  // To prevent multiple clicks.\n",
              "          quickchartButtonEl.classList.add('colab-df-spinner');\n",
              "          try {\n",
              "            const charts = await google.colab.kernel.invokeFunction(\n",
              "                'suggestCharts', [key], {});\n",
              "          } catch (error) {\n",
              "            console.error('Error during call to suggestCharts:', error);\n",
              "          }\n",
              "          quickchartButtonEl.classList.remove('colab-df-spinner');\n",
              "          quickchartButtonEl.classList.add('colab-df-quickchart-complete');\n",
              "        }\n",
              "        (() => {\n",
              "          let quickchartButtonEl =\n",
              "            document.querySelector('#df-79609f58-f463-4501-94fb-28791ce39cbf button');\n",
              "          quickchartButtonEl.style.display =\n",
              "            google.colab.kernel.accessAllowed ? 'block' : 'none';\n",
              "        })();\n",
              "      </script>\n",
              "    </div>\n",
              "\n",
              "    </div>\n",
              "  </div>\n"
            ],
            "application/vnd.google.colaboratory.intrinsic+json": {
              "type": "dataframe",
              "summary": "{\n  \"name\": \"data\",\n  \"rows\": 8,\n  \"fields\": [\n    {\n      \"column\": \"age\",\n      \"properties\": {\n        \"dtype\": \"number\",\n        \"std\": 460.6106090399993,\n        \"min\": 14.049960379216172,\n        \"max\": 1338.0,\n        \"num_unique_values\": 8,\n        \"samples\": [\n          39.20702541106129,\n          39.0,\n          1338.0\n        ],\n        \"semantic_type\": \"\",\n        \"description\": \"\"\n      }\n    },\n    {\n      \"column\": \"bmi\",\n      \"properties\": {\n        \"dtype\": \"number\",\n        \"std\": 462.2349739608294,\n        \"min\": 6.1010383695987755,\n        \"max\": 1335.0,\n        \"num_unique_values\": 8,\n        \"samples\": [\n          30.661423220973784,\n          30.4,\n          1335.0\n        ],\n        \"semantic_type\": \"\",\n        \"description\": \"\"\n      }\n    },\n    {\n      \"column\": \"children\",\n      \"properties\": {\n        \"dtype\": \"number\",\n        \"std\": 472.5368318870757,\n        \"min\": 0.0,\n        \"max\": 1338.0,\n        \"num_unique_values\": 7,\n        \"samples\": [\n          1338.0,\n          1.0949177877429,\n          2.0\n        ],\n        \"semantic_type\": \"\",\n        \"description\": \"\"\n      }\n    },\n    {\n      \"column\": \"charges\",\n      \"properties\": {\n        \"dtype\": \"number\",\n        \"std\": 20381.922846226596,\n        \"min\": 1121.8739,\n        \"max\": 63770.42801,\n        \"num_unique_values\": 8,\n        \"samples\": [\n          13270.422265141257,\n          9382.033,\n          1338.0\n        ],\n        \"semantic_type\": \"\",\n        \"description\": \"\"\n      }\n    }\n  ]\n}"
            }
          },
          "metadata": {},
          "execution_count": 5
        }
      ]
    },
    {
      "cell_type": "markdown",
      "source": [
        "**Check for duplicate Rows**"
      ],
      "metadata": {
        "id": "etLwnnqVb2-F"
      }
    },
    {
      "cell_type": "code",
      "source": [
        "#Check for duplicate rows\n",
        "print(\"Duplicate rows before removal:\", data.duplicated().sum())"
      ],
      "metadata": {
        "colab": {
          "base_uri": "https://localhost:8080/"
        },
        "id": "PldBhPoJb3OJ",
        "outputId": "8263e1ae-714d-4a03-8615-7e795c6690b3"
      },
      "execution_count": null,
      "outputs": [
        {
          "output_type": "stream",
          "name": "stdout",
          "text": [
            "Duplicate rows before removal: 1\n"
          ]
        }
      ]
    },
    {
      "cell_type": "code",
      "source": [
        "#Remove duplicates\n",
        "data.drop_duplicates(inplace=True)"
      ],
      "metadata": {
        "id": "P9YCP3Z5b475"
      },
      "execution_count": null,
      "outputs": []
    },
    {
      "cell_type": "code",
      "source": [
        "#Confirm removal\n",
        "print(\"Duplicate rows after removal:\", data.duplicated().sum())"
      ],
      "metadata": {
        "colab": {
          "base_uri": "https://localhost:8080/"
        },
        "id": "vAEyHD4Fb6EM",
        "outputId": "65f81958-8399-4bf0-fb10-b1e23ba328d0"
      },
      "execution_count": null,
      "outputs": [
        {
          "output_type": "stream",
          "name": "stdout",
          "text": [
            "Duplicate rows after removal: 0\n"
          ]
        }
      ]
    },
    {
      "cell_type": "markdown",
      "source": [
        "**Check for outliers**"
      ],
      "metadata": {
        "id": "iTQfrVRub9O3"
      }
    },
    {
      "cell_type": "code",
      "source": [
        "#Detect Outliers using IQR\n",
        "#define numeric columns to check\n",
        "numeric_cols = ['bmi', 'charges']\n",
        "\n",
        "#Dictionary for outlier counts\n",
        "outlier_counts = {}\n",
        "\n",
        "for col in numeric_cols:\n",
        "    Q1 = data[col].quantile(0.25)\n",
        "    Q3 = data[col].quantile(0.75)\n",
        "    IQR = Q3 - Q1\n",
        "    lower = Q1 - 1.5 * IQR\n",
        "    upper = Q3 + 1.5 * IQR\n",
        "\n",
        "    #Count outliers\n",
        "    count = data[(data[col] < lower) | (data[col] > upper)].shape[0]\n",
        "    outlier_counts[col] = count\n",
        "\n",
        "#Print the outliers per column\n",
        "print(\"Outlier count per column (before removal):\")\n",
        "for col, count in outlier_counts.items():\n",
        "    print(f\"{col}: {count}\")"
      ],
      "metadata": {
        "colab": {
          "base_uri": "https://localhost:8080/"
        },
        "id": "fv1s2GEkb9nG",
        "outputId": "d4e2df2e-1299-4c68-ebfc-2af20e3c6925"
      },
      "execution_count": null,
      "outputs": [
        {
          "output_type": "stream",
          "name": "stdout",
          "text": [
            "Outlier count per column (before removal):\n",
            "bmi: 9\n",
            "charges: 139\n"
          ]
        }
      ]
    },
    {
      "cell_type": "code",
      "source": [
        "#Boxplot to visualize outliers\n",
        "import seaborn as sns\n",
        "for col in numeric_cols:\n",
        "    plt.figure(figsize=(6, 3))\n",
        "    sns.boxplot(x=data[col])\n",
        "    plt.title(f'Boxplot for {col} (Before Outlier Removal)')\n",
        "    plt.show()"
      ],
      "metadata": {
        "colab": {
          "base_uri": "https://localhost:8080/",
          "height": 649
        },
        "id": "-xwsG_U8cAie",
        "outputId": "757600c6-08c9-408c-c045-cdbc77fe6c00"
      },
      "execution_count": null,
      "outputs": [
        {
          "output_type": "display_data",
          "data": {
            "text/plain": [
              "<Figure size 600x300 with 1 Axes>"
            ],
            "image/png": "[encoded data removed]"
          },
          "metadata": {}
        },
        {
          "output_type": "display_data",
          "data": {
            "text/plain": [
              "<Figure size 600x300 with 1 Axes>"
            ],
            "image/png": "[encoded data removed]"
          },
          "metadata": {}
        }
      ]
    },
    {
      "cell_type": "markdown",
      "source": [
        "After testing both approaches, I found that keeping outliers improved model performance. In this dataset, outliers in medical charges and BMI weren't errors but reflected real, informative cases, particularly for smokers.\n",
        "\n",
        "High medical charges are likely indicators of smoker status. Removing these values would reduce the model’s ability to learn important distinctions between smokers and non-smokers. Retaining outliers allowed the model to learn more meaningful and important patterns, and also to better distinguish smokers from non-smokers, which improved recall and F1-score for the smoker class."
      ],
      "metadata": {
        "id": "MnfhKaog4rVf"
      }
    },
    {
      "cell_type": "markdown",
      "source": [
        "**Check missing values per column**"
      ],
      "metadata": {
        "id": "bhUsYCOhcC60"
      }
    },
    {
      "cell_type": "code",
      "source": [
        "print('missing values per column')\n",
        "print(data.isnull().sum())"
      ],
      "metadata": {
        "colab": {
          "base_uri": "https://localhost:8080/"
        },
        "id": "am_J1g_NcDMA",
        "outputId": "03dca3ef-f544-4c1a-ee0d-d76354ff3f71"
      },
      "execution_count": null,
      "outputs": [
        {
          "output_type": "stream",
          "name": "stdout",
          "text": [
            "missing values per column\n",
            "age         0\n",
            "sex         0\n",
            "bmi         3\n",
            "children    0\n",
            "smoker      0\n",
            "region      0\n",
            "charges     0\n",
            "dtype: int64\n"
          ]
        }
      ]
    },
    {
      "cell_type": "code",
      "source": [
        "#Handle missing values\n",
        "data['bmi'].fillna(data['bmi'].median(), inplace=True)"
      ],
      "metadata": {
        "colab": {
          "base_uri": "https://localhost:8080/"
        },
        "id": "Qi_SC0oO1_NG",
        "outputId": "4f70bb49-181e-47c4-ceaf-4fcd27b2dd1b"
      },
      "execution_count": null,
      "outputs": [
        {
          "output_type": "stream",
          "name": "stderr",
          "text": [
            "/tmp/ipython-input-12-2921946869.py:2: FutureWarning: A value is trying to be set on a copy of a DataFrame or Series through chained assignment using an inplace method.\n",
            "The behavior will change in pandas 3.0. This inplace method will never work because the intermediate object on which we are setting values always behaves as a copy.\n",
            "\n",
            "For example, when doing 'df[col].method(value, inplace=True)', try using 'df.method({col: value}, inplace=True)' or df[col] = df[col].method(value) instead, to perform the operation inplace on the original object.\n",
            "\n",
            "\n",
            "  data['bmi'].fillna(data['bmi'].median(), inplace=True)\n"
          ]
        }
      ]
    },
    {
      "cell_type": "code",
      "source": [
        "print(data.isnull().sum()) #double check if all missing values are filled now"
      ],
      "metadata": {
        "colab": {
          "base_uri": "https://localhost:8080/"
        },
        "id": "WFN3-7EDcJ_j",
        "outputId": "8631614c-6aff-46fd-be8d-69c5304b2a89"
      },
      "execution_count": null,
      "outputs": [
        {
          "output_type": "stream",
          "name": "stdout",
          "text": [
            "age         0\n",
            "sex         0\n",
            "bmi         0\n",
            "children    0\n",
            "smoker      0\n",
            "region      0\n",
            "charges     0\n",
            "dtype: int64\n"
          ]
        }
      ]
    },
    {
      "cell_type": "code",
      "source": [
        "data.info()"
      ],
      "metadata": {
        "colab": {
          "base_uri": "https://localhost:8080/"
        },
        "id": "xCXP5i9mOSSo",
        "outputId": "e2c4a284-6b06-46b3-8c7c-a0a497896a37"
      },
      "execution_count": null,
      "outputs": [
        {
          "output_type": "stream",
          "name": "stdout",
          "text": [
            "<class 'pandas.core.frame.DataFrame'>\n",
            "Index: 1337 entries, 0 to 1337\n",
            "Data columns (total 7 columns):\n",
            " #   Column    Non-Null Count  Dtype  \n",
            "---  ------    --------------  -----  \n",
            " 0   age       1337 non-null   int64  \n",
            " 1   sex       1337 non-null   object \n",
            " 2   bmi       1337 non-null   float64\n",
            " 3   children  1337 non-null   int64  \n",
            " 4   smoker    1337 non-null   object \n",
            " 5   region    1337 non-null   object \n",
            " 6   charges   1337 non-null   float64\n",
            "dtypes: float64(2), int64(2), object(3)\n",
            "memory usage: 83.6+ KB\n"
          ]
        }
      ]
    },
    {
      "cell_type": "markdown",
      "source": [
        "Only 3 missing values were found in the bmi column. These were filled using the median BMI value to maintain distributional integrity, especially in the presence of outliers."
      ],
      "metadata": {
        "id": "i8Hx9ik72KuE"
      }
    },
    {
      "cell_type": "markdown",
      "source": [
        "##3. Convert Categorical columns to numerical using LabelEncoder\n",
        "\n"
      ],
      "metadata": {
        "id": "pIfUr-jtcWeu"
      }
    },
    {
      "cell_type": "code",
      "source": [
        "from sklearn.preprocessing import LabelEncoder\n",
        "\n",
        "#create a copy for modeling\n",
        "df = data.copy()\n",
        "\n",
        "#encode target variable into yes=1, no=0\n",
        "df['smoker'] = LabelEncoder().fit_transform(df['smoker'])\n",
        "\n",
        "#encode 'sex' and 'region'\n",
        "df = pd.get_dummies(df, columns=['sex', 'region'], drop_first=True)\n"
      ],
      "metadata": {
        "id": "bsgmGqe4fCFy"
      },
      "execution_count": null,
      "outputs": []
    },
    {
      "cell_type": "code",
      "source": [
        "df.head()"
      ],
      "metadata": {
        "colab": {
          "base_uri": "https://localhost:8080/",
          "height": 206
        },
        "id": "7kQvsf5ph9-b",
        "outputId": "3c6fe7fd-7554-4766-e20a-891d850f4496"
      },
      "execution_count": null,
      "outputs": [
        {
          "output_type": "execute_result",
          "data": {
            "text/plain": [
              "   age     bmi  children  smoker      charges  sex_male  region_northwest  \\\n",
              "0   19  27.900         0       1  16884.92400     False             False   \n",
              "1   18  33.770         1       0   1725.55230      True             False   \n",
              "2   28  33.000         3       0   4449.46200      True             False   \n",
              "3   33  22.705         0       0  21984.47061      True              True   \n",
              "4   32  28.880         0       0   3866.85520      True              True   \n",
              "\n",
              "   region_southeast  region_southwest  \n",
              "0             False              True  \n",
              "1              True             False  \n",
              "2              True             False  \n",
              "3             False             False  \n",
              "4             False             False  "
            ],
            "text/html": [
              "\n",
              "  <div id=\"df-3d09d27e-c4ea-4b5e-a58f-07c9b014ac91\" class=\"colab-df-container\">\n",
              "    <div>\n",
              "<style scoped>\n",
              "    .dataframe tbody tr th:only-of-type {\n",
              "        vertical-align: middle;\n",
              "    }\n",
              "\n",
              "    .dataframe tbody tr th {\n",
              "        vertical-align: top;\n",
              "    }\n",
              "\n",
              "    .dataframe thead th {\n",
              "        text-align: right;\n",
              "    }\n",
              "</style>\n",
              "<table border=\"1\" class=\"dataframe\">\n",
              "  <thead>\n",
              "    <tr style=\"text-align: right;\">\n",
              "      <th></th>\n",
              "      <th>age</th>\n",
              "      <th>bmi</th>\n",
              "      <th>children</th>\n",
              "      <th>smoker</th>\n",
              "      <th>charges</th>\n",
              "      <th>sex_male</th>\n",
              "      <th>region_northwest</th>\n",
              "      <th>region_southeast</th>\n",
              "      <th>region_southwest</th>\n",
              "    </tr>\n",
              "  </thead>\n",
              "  <tbody>\n",
              "    <tr>\n",
              "      <th>0</th>\n",
              "      <td>19</td>\n",
              "      <td>27.900</td>\n",
              "      <td>0</td>\n",
              "      <td>1</td>\n",
              "      <td>16884.92400</td>\n",
              "      <td>False</td>\n",
              "      <td>False</td>\n",
              "      <td>False</td>\n",
              "      <td>True</td>\n",
              "    </tr>\n",
              "    <tr>\n",
              "      <th>1</th>\n",
              "      <td>18</td>\n",
              "      <td>33.770</td>\n",
              "      <td>1</td>\n",
              "      <td>0</td>\n",
              "      <td>1725.55230</td>\n",
              "      <td>True</td>\n",
              "      <td>False</td>\n",
              "      <td>True</td>\n",
              "      <td>False</td>\n",
              "    </tr>\n",
              "    <tr>\n",
              "      <th>2</th>\n",
              "      <td>28</td>\n",
              "      <td>33.000</td>\n",
              "      <td>3</td>\n",
              "      <td>0</td>\n",
              "      <td>4449.46200</td>\n",
              "      <td>True</td>\n",
              "      <td>False</td>\n",
              "      <td>True</td>\n",
              "      <td>False</td>\n",
              "    </tr>\n",
              "    <tr>\n",
              "      <th>3</th>\n",
              "      <td>33</td>\n",
              "      <td>22.705</td>\n",
              "      <td>0</td>\n",
              "      <td>0</td>\n",
              "      <td>21984.47061</td>\n",
              "      <td>True</td>\n",
              "      <td>True</td>\n",
              "      <td>False</td>\n",
              "      <td>False</td>\n",
              "    </tr>\n",
              "    <tr>\n",
              "      <th>4</th>\n",
              "      <td>32</td>\n",
              "      <td>28.880</td>\n",
              "      <td>0</td>\n",
              "      <td>0</td>\n",
              "      <td>3866.85520</td>\n",
              "      <td>True</td>\n",
              "      <td>True</td>\n",
              "      <td>False</td>\n",
              "      <td>False</td>\n",
              "    </tr>\n",
              "  </tbody>\n",
              "</table>\n",
              "</div>\n",
              "    <div class=\"colab-df-buttons\">\n",
              "\n",
              "  <div class=\"colab-df-container\">\n",
              "    <button class=\"colab-df-convert\" onclick=\"convertToInteractive('df-3d09d27e-c4ea-4b5e-a58f-07c9b014ac91')\"\n",
              "            title=\"Convert this dataframe to an interactive table.\"\n",
              "            style=\"display:none;\">\n",
              "\n",
              "  <svg xmlns=\"http://www.w3.org/2000/svg\" height=\"24px\" viewBox=\"0 -960 960 960\">\n",
              "    <path d=\"M120-120v-720h720v720H120Zm60-500h600v-160H180v160Zm220 220h160v-160H400v160Zm0 220h160v-160H400v160ZM180-400h160v-160H180v160Zm440 0h160v-160H620v160ZM180-180h160v-160H180v160Zm440 0h160v-160H620v160Z\"/>\n",
              "  </svg>\n",
              "    </button>\n",
              "\n",
              "  <style>\n",
              "    .colab-df-container {\n",
              "      display:flex;\n",
              "      gap: 12px;\n",
              "    }\n",
              "\n",
              "    .colab-df-convert {\n",
              "      background-color: #E8F0FE;\n",
              "      border: none;\n",
              "      border-radius: 50%;\n",
              "      cursor: pointer;\n",
              "      display: none;\n",
              "      fill: #1967D2;\n",
              "      height: 32px;\n",
              "      padding: 0 0 0 0;\n",
              "      width: 32px;\n",
              "    }\n",
              "\n",
              "    .colab-df-convert:hover {\n",
              "      background-color: #E2EBFA;\n",
              "      box-shadow: 0px 1px 2px rgba(60, 64, 67, 0.3), 0px 1px 3px 1px rgba(60, 64, 67, 0.15);\n",
              "      fill: #174EA6;\n",
              "    }\n",
              "\n",
              "    .colab-df-buttons div {\n",
              "      margin-bottom: 4px;\n",
              "    }\n",
              "\n",
              "    [theme=dark] .colab-df-convert {\n",
              "      background-color: #3B4455;\n",
              "      fill: #D2E3FC;\n",
              "    }\n",
              "\n",
              "    [theme=dark] .colab-df-convert:hover {\n",
              "      background-color: #434B5C;\n",
              "      box-shadow: 0px 1px 3px 1px rgba(0, 0, 0, 0.15);\n",
              "      filter: drop-shadow(0px 1px 2px rgba(0, 0, 0, 0.3));\n",
              "      fill: #FFFFFF;\n",
              "    }\n",
              "  </style>\n",
              "\n",
              "    <script>\n",
              "      const buttonEl =\n",
              "        document.querySelector('#df-3d09d27e-c4ea-4b5e-a58f-07c9b014ac91 button.colab-df-convert');\n",
              "      buttonEl.style.display =\n",
              "        google.colab.kernel.accessAllowed ? 'block' : 'none';\n",
              "\n",
              "      async function convertToInteractive(key) {\n",
              "        const element = document.querySelector('#df-3d09d27e-c4ea-4b5e-a58f-07c9b014ac91');\n",
              "        const dataTable =\n",
              "          await google.colab.kernel.invokeFunction('convertToInteractive',\n",
              "                                                    [key], {});\n",
              "        if (!dataTable) return;\n",
              "\n",
              "        const docLinkHtml = 'Like what you see? Visit the ' +\n",
              "          '<a target=\"_blank\" href=https://colab.research.google.com/notebooks/data_table.ipynb>data table notebook</a>'\n",
              "          + ' to learn more about interactive tables.';\n",
              "        element.innerHTML = '';\n",
              "        dataTable['output_type'] = 'display_data';\n",
              "        await google.colab.output.renderOutput(dataTable, element);\n",
              "        const docLink = document.createElement('div');\n",
              "        docLink.innerHTML = docLinkHtml;\n",
              "        element.appendChild(docLink);\n",
              "      }\n",
              "    </script>\n",
              "  </div>\n",
              "\n",
              "\n",
              "    <div id=\"df-5f4e7fa6-4867-49fb-8bb0-ad0eaabf1fa6\">\n",
              "      <button class=\"colab-df-quickchart\" onclick=\"quickchart('df-5f4e7fa6-4867-49fb-8bb0-ad0eaabf1fa6')\"\n",
              "                title=\"Suggest charts\"\n",
              "                style=\"display:none;\">\n",
              "\n",
              "<svg xmlns=\"http://www.w3.org/2000/svg\" height=\"24px\"viewBox=\"0 0 24 24\"\n",
              "     width=\"24px\">\n",
              "    <g>\n",
              "        <path d=\"M19 3H5c-1.1 0-2 .9-2 2v14c0 1.1.9 2 2 2h14c1.1 0 2-.9 2-2V5c0-1.1-.9-2-2-2zM9 17H7v-7h2v7zm4 0h-2V7h2v10zm4 0h-2v-4h2v4z\"/>\n",
              "    </g>\n",
              "</svg>\n",
              "      </button>\n",
              "\n",
              "<style>\n",
              "  .colab-df-quickchart {\n",
              "      --bg-color: #E8F0FE;\n",
              "      --fill-color: #1967D2;\n",
              "      --hover-bg-color: #E2EBFA;\n",
              "      --hover-fill-color: #174EA6;\n",
              "      --disabled-fill-color: #AAA;\n",
              "      --disabled-bg-color: #DDD;\n",
              "  }\n",
              "\n",
              "  [theme=dark] .colab-df-quickchart {\n",
              "      --bg-color: #3B4455;\n",
              "      --fill-color: #D2E3FC;\n",
              "      --hover-bg-color: #434B5C;\n",
              "      --hover-fill-color: #FFFFFF;\n",
              "      --disabled-bg-color: #3B4455;\n",
              "      --disabled-fill-color: #666;\n",
              "  }\n",
              "\n",
              "  .colab-df-quickchart {\n",
              "    background-color: var(--bg-color);\n",
              "    border: none;\n",
              "    border-radius: 50%;\n",
              "    cursor: pointer;\n",
              "    display: none;\n",
              "    fill: var(--fill-color);\n",
              "    height: 32px;\n",
              "    padding: 0;\n",
              "    width: 32px;\n",
              "  }\n",
              "\n",
              "  .colab-df-quickchart:hover {\n",
              "    background-color: var(--hover-bg-color);\n",
              "    box-shadow: 0 1px 2px rgba(60, 64, 67, 0.3), 0 1px 3px 1px rgba(60, 64, 67, 0.15);\n",
              "    fill: var(--button-hover-fill-color);\n",
              "  }\n",
              "\n",
              "  .colab-df-quickchart-complete:disabled,\n",
              "  .colab-df-quickchart-complete:disabled:hover {\n",
              "    background-color: var(--disabled-bg-color);\n",
              "    fill: var(--disabled-fill-color);\n",
              "    box-shadow: none;\n",
              "  }\n",
              "\n",
              "  .colab-df-spinner {\n",
              "    border: 2px solid var(--fill-color);\n",
              "    border-color: transparent;\n",
              "    border-bottom-color: var(--fill-color);\n",
              "    animation:\n",
              "      spin 1s steps(1) infinite;\n",
              "  }\n",
              "\n",
              "  @keyframes spin {\n",
              "    0% {\n",
              "      border-color: transparent;\n",
              "      border-bottom-color: var(--fill-color);\n",
              "      border-left-color: var(--fill-color);\n",
              "    }\n",
              "    20% {\n",
              "      border-color: transparent;\n",
              "      border-left-color: var(--fill-color);\n",
              "      border-top-color: var(--fill-color);\n",
              "    }\n",
              "    30% {\n",
              "      border-color: transparent;\n",
              "      border-left-color: var(--fill-color);\n",
              "      border-top-color: var(--fill-color);\n",
              "      border-right-color: var(--fill-color);\n",
              "    }\n",
              "    40% {\n",
              "      border-color: transparent;\n",
              "      border-right-color: var(--fill-color);\n",
              "      border-top-color: var(--fill-color);\n",
              "    }\n",
              "    60% {\n",
              "      border-color: transparent;\n",
              "      border-right-color: var(--fill-color);\n",
              "    }\n",
              "    80% {\n",
              "      border-color: transparent;\n",
              "      border-right-color: var(--fill-color);\n",
              "      border-bottom-color: var(--fill-color);\n",
              "    }\n",
              "    90% {\n",
              "      border-color: transparent;\n",
              "      border-bottom-color: var(--fill-color);\n",
              "    }\n",
              "  }\n",
              "</style>\n",
              "\n",
              "      <script>\n",
              "        async function quickchart(key) {\n",
              "          const quickchartButtonEl =\n",
              "            document.querySelector('#' + key + ' button');\n",
              "          quickchartButtonEl.disabled = true;  // To prevent multiple clicks.\n",
              "          quickchartButtonEl.classList.add('colab-df-spinner');\n",
              "          try {\n",
              "            const charts = await google.colab.kernel.invokeFunction(\n",
              "                'suggestCharts', [key], {});\n",
              "          } catch (error) {\n",
              "            console.error('Error during call to suggestCharts:', error);\n",
              "          }\n",
              "          quickchartButtonEl.classList.remove('colab-df-spinner');\n",
              "          quickchartButtonEl.classList.add('colab-df-quickchart-complete');\n",
              "        }\n",
              "        (() => {\n",
              "          let quickchartButtonEl =\n",
              "            document.querySelector('#df-5f4e7fa6-4867-49fb-8bb0-ad0eaabf1fa6 button');\n",
              "          quickchartButtonEl.style.display =\n",
              "            google.colab.kernel.accessAllowed ? 'block' : 'none';\n",
              "        })();\n",
              "      </script>\n",
              "    </div>\n",
              "\n",
              "    </div>\n",
              "  </div>\n"
            ],
            "application/vnd.google.colaboratory.intrinsic+json": {
              "type": "dataframe",
              "variable_name": "df",
              "summary": "{\n  \"name\": \"df\",\n  \"rows\": 1337,\n  \"fields\": [\n    {\n      \"column\": \"age\",\n      \"properties\": {\n        \"dtype\": \"number\",\n        \"std\": 14,\n        \"min\": 18,\n        \"max\": 64,\n        \"num_unique_values\": 47,\n        \"samples\": [\n          21,\n          45,\n          36\n        ],\n        \"semantic_type\": \"\",\n        \"description\": \"\"\n      }\n    },\n    {\n      \"column\": \"bmi\",\n      \"properties\": {\n        \"dtype\": \"number\",\n        \"std\": 6.09648425882306,\n        \"min\": 15.96,\n        \"max\": 53.13,\n        \"num_unique_values\": 549,\n        \"samples\": [\n          25.365,\n          38.285,\n          35.42\n        ],\n        \"semantic_type\": \"\",\n        \"description\": \"\"\n      }\n    },\n    {\n      \"column\": \"children\",\n      \"properties\": {\n        \"dtype\": \"number\",\n        \"std\": 1,\n        \"min\": 0,\n        \"max\": 5,\n        \"num_unique_values\": 6,\n        \"samples\": [\n          0,\n          1,\n          4\n        ],\n        \"semantic_type\": \"\",\n        \"description\": \"\"\n      }\n    },\n    {\n      \"column\": \"smoker\",\n      \"properties\": {\n        \"dtype\": \"number\",\n        \"std\": 0,\n        \"min\": 0,\n        \"max\": 1,\n        \"num_unique_values\": 2,\n        \"samples\": [\n          0,\n          1\n        ],\n        \"semantic_type\": \"\",\n        \"description\": \"\"\n      }\n    },\n    {\n      \"column\": \"charges\",\n      \"properties\": {\n        \"dtype\": \"number\",\n        \"std\": 12110.359656344179,\n        \"min\": 1121.8739,\n        \"max\": 63770.42801,\n        \"num_unique_values\": 1337,\n        \"samples\": [\n          8688.85885,\n          5708.867\n        ],\n        \"semantic_type\": \"\",\n        \"description\": \"\"\n      }\n    },\n    {\n      \"column\": \"sex_male\",\n      \"properties\": {\n        \"dtype\": \"boolean\",\n        \"num_unique_values\": 2,\n        \"samples\": [\n          true,\n          false\n        ],\n        \"semantic_type\": \"\",\n        \"description\": \"\"\n      }\n    },\n    {\n      \"column\": \"region_northwest\",\n      \"properties\": {\n        \"dtype\": \"boolean\",\n        \"num_unique_values\": 2,\n        \"samples\": [\n          true,\n          false\n        ],\n        \"semantic_type\": \"\",\n        \"description\": \"\"\n      }\n    },\n    {\n      \"column\": \"region_southeast\",\n      \"properties\": {\n        \"dtype\": \"boolean\",\n        \"num_unique_values\": 2,\n        \"samples\": [\n          true,\n          false\n        ],\n        \"semantic_type\": \"\",\n        \"description\": \"\"\n      }\n    },\n    {\n      \"column\": \"region_southwest\",\n      \"properties\": {\n        \"dtype\": \"boolean\",\n        \"num_unique_values\": 2,\n        \"samples\": [\n          false,\n          true\n        ],\n        \"semantic_type\": \"\",\n        \"description\": \"\"\n      }\n    }\n  ]\n}"
            }
          },
          "metadata": {},
          "execution_count": 17
        }
      ]
    },
    {
      "cell_type": "markdown",
      "source": [
        "The original dataset contained 1,338 rows and 7 columns, with 3 missing values in the bmi column and 1 duplicate row. To ensure data integrity, the duplicate was removed, and the missing bmi values were handled through median imputation, which is robust to outliers (so, now we have 1,337 rows and 7 columns).\n",
        "\n",
        "For modeling purposes, categorical variables such as sex, smoker, and region were transformed into numerical format using Label Encoding and One-Hot Encoding, making the data compatible with ML Algorithms.\n",
        "\n",
        "With missing values addressed, duplicate values removed, and categorical features encoded, the dataset is now clean, complete, and ready for building a strong and reliable classification model."
      ],
      "metadata": {
        "id": "7M9bJcFNiPNF"
      }
    },
    {
      "cell_type": "markdown",
      "source": [
        "## 4. Some Visualizations"
      ],
      "metadata": {
        "id": "5mThUBEZes-s"
      }
    },
    {
      "cell_type": "markdown",
      "source": [
        "## A. Distribution of Smoker vs. Non-Smoker"
      ],
      "metadata": {
        "id": "t3MoDXx4krC3"
      }
    },
    {
      "cell_type": "code",
      "source": [
        "import seaborn as sns\n",
        "import matplotlib.pyplot as plt\n",
        "\n",
        "#countplot\n",
        "sns.countplot(data=df, x='smoker')\n",
        "plt.title(\"Smoker vs. Non-Smoker Distribution\")\n",
        "plt.xlabel(\"Smoker\")\n",
        "plt.ylabel(\"Count\")\n",
        "plt.show()"
      ],
      "metadata": {
        "colab": {
          "base_uri": "https://localhost:8080/",
          "height": 472
        },
        "id": "FQp2-kJJkzQh",
        "outputId": "4806dcab-0b9f-481c-f2f6-d97aefaf6f95"
      },
      "execution_count": null,
      "outputs": [
        {
          "output_type": "display_data",
          "data": {
            "text/plain": [
              "<Figure size 640x480 with 1 Axes>"
            ],
            "image/png": "[encoded data removed]"
          },
          "metadata": {}
        }
      ]
    },
    {
      "cell_type": "markdown",
      "source": [
        "This clearly shows a class imbalalnce. Only a small percentage of people smoke (label 1), whereas the majority are non-smokers (label 0).\n",
        "\n",
        "Because it could result in a bias toward predicting the majority class, this imbalance should be taken into account while training the model."
      ],
      "metadata": {
        "id": "NWpTm6LZm3YV"
      }
    },
    {
      "cell_type": "markdown",
      "source": [
        "## B. Age Distribution by Smoker Status"
      ],
      "metadata": {
        "id": "DRc1CuPhk_a9"
      }
    },
    {
      "cell_type": "code",
      "source": [
        "#histogram\n",
        "sns.histplot(data=df, x='age', hue='smoker', multiple='stack', bins=15)\n",
        "plt.title(\"Age Distribution by Smoker Status\")\n",
        "plt.xlabel(\"Age\")\n",
        "plt.ylabel(\"Count\")\n",
        "plt.show()"
      ],
      "metadata": {
        "colab": {
          "base_uri": "https://localhost:8080/",
          "height": 472
        },
        "id": "h7Sq9zR8lEWj",
        "outputId": "261193f4-32f0-46f9-bdfd-6ef15839605a"
      },
      "execution_count": null,
      "outputs": [
        {
          "output_type": "display_data",
          "data": {
            "text/plain": [
              "<Figure size 640x480 with 1 Axes>"
            ],
            "image/png": "[encoded data removed]"
          },
          "metadata": {}
        }
      ]
    },
    {
      "cell_type": "markdown",
      "source": [
        "People of all ages are more likely to be non-smokers, according to the histogram. However, compared to other age categories, a high number of smokers are in the 20 to 30 and 45 to 60 age ranges.\n",
        "\n",
        "This suggests that age may be a relevant feature in predicting smoker status, although the relationship isn't strongly concentrated in one specific age category."
      ],
      "metadata": {
        "id": "rqFSh6aYncWj"
      }
    },
    {
      "cell_type": "markdown",
      "source": [
        "## C. BMI Distribution by Smoker Status"
      ],
      "metadata": {
        "id": "j5QBhExilPPi"
      }
    },
    {
      "cell_type": "code",
      "source": [
        "sns.kdeplot(data=df, x='bmi', hue='smoker', fill=True)\n",
        "plt.title(\"BMI Distribution by Smoker Status\")\n",
        "plt.xlabel(\"BMI\")\n",
        "plt.show()"
      ],
      "metadata": {
        "colab": {
          "base_uri": "https://localhost:8080/",
          "height": 472
        },
        "id": "uwblKBcUleoi",
        "outputId": "a2929d3a-9213-4bbd-ee9b-7c25c04c360e"
      },
      "execution_count": null,
      "outputs": [
        {
          "output_type": "display_data",
          "data": {
            "text/plain": [
              "<Figure size 640x480 with 1 Axes>"
            ],
            "image/png": "[encoded data removed]"
          },
          "metadata": {}
        }
      ]
    },
    {
      "cell_type": "markdown",
      "source": [
        "With the majority of people falling between 25 and 35, the BMI distributions for smokers and non-smokers seem to be centered around the same values. The smokers category, on the other hand, exhibits a somewhat reduced density, suggesting fewer data points overall.\n",
        "\n",
        "While BMI alone may not be a strong important factor, it can still have some value when combined with other features in the classification model."
      ],
      "metadata": {
        "id": "TlilK3Ybn9J_"
      }
    },
    {
      "cell_type": "markdown",
      "source": [
        "## D. Charges vs. Smoker"
      ],
      "metadata": {
        "id": "Jns_0v8ulgna"
      }
    },
    {
      "cell_type": "code",
      "source": [
        "sns.boxplot(data=df, x='smoker', y='charges')\n",
        "plt.title(\"Medical Charges by Smoker Status\")\n",
        "plt.xlabel(\"Smoker\")\n",
        "plt.ylabel(\"Charges\")\n",
        "plt.show()\n"
      ],
      "metadata": {
        "colab": {
          "base_uri": "https://localhost:8080/",
          "height": 472
        },
        "id": "G-6SSWFJltHe",
        "outputId": "529018cf-4715-4581-efff-8aebee82a00f"
      },
      "execution_count": null,
      "outputs": [
        {
          "output_type": "display_data",
          "data": {
            "text/plain": [
              "<Figure size 640x480 with 1 Axes>"
            ],
            "image/png": "[encoded data removed]"
          },
          "metadata": {}
        }
      ]
    },
    {
      "cell_type": "markdown",
      "source": [
        "The boxplot shows a clear difference in medical charges between smokers and non-smokers.\n",
        "\n",
        "Smokers tend to have significantly higher charges, with both the median and overall range, much greater than those of non-smokers. This includes a significant number of outliers, which are valid and reflective of real-world medical costs.\n",
        "\n",
        "These findings strongly suggest that the charges is a highly important feature for predicting smoker status."
      ],
      "metadata": {
        "id": "OIeSpQIioSpL"
      }
    },
    {
      "cell_type": "markdown",
      "source": [
        "## E. Smoker Status across Regions"
      ],
      "metadata": {
        "id": "tM8X_4eSlxOh"
      }
    },
    {
      "cell_type": "code",
      "source": [
        "#Re-load the original data to restore 'region' just for the purpose of checking smoker status across regions\n",
        "df_visualization = pd.read_csv(\"insurance - insurance.csv\")\n",
        "\n",
        "#because when we did one hot encoding there is no \"region\" column anymore,\n",
        "#it got replaced by dummy variables: region_northwest, region_southeast, and\tregion_southwest\n",
        "\n",
        "sns.countplot(data=df_visualization, x='region', hue='smoker')\n",
        "plt.title(\"Smoker Status by Region\")\n",
        "plt.xlabel(\"Region\")\n",
        "plt.ylabel(\"Count\")\n",
        "plt.show()\n"
      ],
      "metadata": {
        "colab": {
          "base_uri": "https://localhost:8080/",
          "height": 472
        },
        "id": "bWbyoyOkl5Yb",
        "outputId": "1c8ea95c-6a2b-4d35-fe53-9ce1b05ae9cc"
      },
      "execution_count": null,
      "outputs": [
        {
          "output_type": "display_data",
          "data": {
            "text/plain": [
              "<Figure size 640x480 with 1 Axes>"
            ],
            "image/png": "[encoded data removed]"
          },
          "metadata": {}
        }
      ]
    },
    {
      "cell_type": "markdown",
      "source": [
        "We can see that there is a majority of non-smokers in every location, and the distribution of smokers vs. non-smokers is very stable in all regions.\n",
        "\n",
        "However, compared to other regions, the southeast seems to have a significantly larger population of smokers.\n",
        "\n",
        "\n",
        "This suggests that while region may not be a strong predictor alone, it could still add a small value when combined with other features in the model."
      ],
      "metadata": {
        "id": "lM9C663RqV3c"
      }
    },
    {
      "cell_type": "markdown",
      "source": [
        "## F. Correlation Heatmap"
      ],
      "metadata": {
        "id": "hkxrz5cPl6hO"
      }
    },
    {
      "cell_type": "code",
      "source": [
        "plt.figure(figsize=(10,6))\n",
        "sns.heatmap(df.corr(), annot=True, cmap='coolwarm')\n",
        "plt.title('Feature Correlation Matrix')\n",
        "plt.show()"
      ],
      "metadata": {
        "colab": {
          "base_uri": "https://localhost:8080/",
          "height": 653
        },
        "id": "4uHNoLv7ciGn",
        "outputId": "659a6797-66ec-415e-a132-cb053d72804c"
      },
      "execution_count": null,
      "outputs": [
        {
          "output_type": "display_data",
          "data": {
            "text/plain": [
              "<Figure size 1000x600 with 2 Axes>"
            ],
            "image/png": "[encoded data removed]"
          },
          "metadata": {}
        }
      ]
    },
    {
      "cell_type": "markdown",
      "source": [
        "The correlation heatmap shows that charges has the strongest positive correlation with the smoker variable (0.79), indicating that higher medical expenses are associated with being a smoker.\n",
        "\n",
        "This reinforces the earlier visual insights and suggests that charges will be a key predictor in the classification model.\n",
        "\n",
        "Regarding the other features, including age, bmi, sex, children, and region, they show very weak correlations with smoker status, individually contributing weakly or moderately to prediction. However, they may still add a value if combined with other features or in more complex models such as ensemble methods."
      ],
      "metadata": {
        "id": "zdRGvwz_rIey"
      }
    },
    {
      "cell_type": "markdown",
      "source": [
        "## 5. Train-Test Split"
      ],
      "metadata": {
        "id": "3UsHwbxsfgbZ"
      }
    },
    {
      "cell_type": "code",
      "source": [
        "from sklearn.model_selection import train_test_split\n",
        "#Prepare features and target\n",
        "X = df.drop('smoker', axis=1)\n",
        "y = df['smoker']\n",
        "\n",
        "#train-test split\n",
        "X_train, X_test, y_train, y_test = train_test_split(X, y, test_size=0.2, random_state=42, stratify=y)\n",
        "\n",
        "#stratify = y here to ensure balanced and fair model evaluation since we have imbalanced dataset where non-smokers dominate.\n",
        "#So, in this case, both training and testing sets will keep this 20–80 ratio not ending up with for example 5% smokers in the test set\n",
        "#which will result in inaccurate and unreliable results.\n"
      ],
      "metadata": {
        "id": "8kskhT2GfioA"
      },
      "execution_count": null,
      "outputs": []
    },
    {
      "cell_type": "code",
      "source": [
        "#features scaling\n",
        "from sklearn.preprocessing import StandardScaler\n",
        "\n",
        "scaler = StandardScaler()\n",
        "X_train_scaled = scaler.fit_transform(X_train)\n",
        "X_test_scaled = scaler.transform(X_test)"
      ],
      "metadata": {
        "id": "yl55KLCmxDas"
      },
      "execution_count": null,
      "outputs": []
    },
    {
      "cell_type": "markdown",
      "source": [
        "## 6. Model Building - Standard Logistic Regression"
      ],
      "metadata": {
        "id": "s3DtedHofuQt"
      }
    },
    {
      "cell_type": "code",
      "source": [
        "from sklearn.linear_model import LogisticRegression\n",
        "from sklearn.metrics import accuracy_score, precision_score, recall_score, f1_score, confusion_matrix, classification_report\n",
        "\n",
        "#Model Training\n",
        "lr = LogisticRegression(max_iter=1000)\n",
        "lr.fit(X_train_scaled, y_train)\n",
        "y_pred = lr.predict(X_test_scaled)\n"
      ],
      "metadata": {
        "id": "db4ZSFwFf34q"
      },
      "execution_count": null,
      "outputs": []
    },
    {
      "cell_type": "code",
      "source": [
        "#Flatten them into 1D format\n",
        "y_test_flat = y_test.to_numpy() #for series\n",
        "y_pred_flat = y_pred\n"
      ],
      "metadata": {
        "id": "kLKE0JlKsMlx"
      },
      "execution_count": null,
      "outputs": []
    },
    {
      "cell_type": "code",
      "source": [
        "#Model Evaluation metrics\n",
        "print(\"Accuracy:\", accuracy_score(y_test_flat, y_pred_flat))\n",
        "print(\"Precision:\", precision_score(y_test_flat, y_pred_flat))\n",
        "print(\"Recall:\", recall_score(y_test_flat, y_pred_flat))\n",
        "print(\"F1 Score:\", f1_score(y_test_flat, y_pred_flat))"
      ],
      "metadata": {
        "colab": {
          "base_uri": "https://localhost:8080/"
        },
        "id": "LgnrZJE-ft43",
        "outputId": "357e0272-a9bc-49c5-9040-8c38b1bc4505"
      },
      "execution_count": null,
      "outputs": [
        {
          "output_type": "stream",
          "name": "stdout",
          "text": [
            "Accuracy: 0.9626865671641791\n",
            "Precision: 0.9245283018867925\n",
            "Recall: 0.8909090909090909\n",
            "F1 Score: 0.9074074074074074\n"
          ]
        }
      ]
    },
    {
      "cell_type": "code",
      "source": [
        "#Confusion Matrix and classification report\n",
        "cm = confusion_matrix(y_test_flat, y_pred_flat)\n",
        "print(\"\\nConfusion Matrix:\")\n",
        "print(cm)\n",
        "\n",
        "TN, FP, FN, TP = cm.ravel()\n",
        "TPR = TP / (TP + FN) if (TP + FN) != 0 else 0\n",
        "TNR = TN / (TN + FP) if (TN + FP) != 0 else 0\n",
        "FPR = FP / (FP + TN) if (FP + TN) != 0 else 0\n",
        "FNR = FN / (FN + TP) if (FN + TP) != 0 else 0\n",
        "\n",
        "print(f\"\\nTPR (Recall for smokers): {TPR:.4f}\")\n",
        "print(f\"TNR (Recall for non-smokers): {TNR:.4f}\")\n",
        "print(f\"FPR: {FPR:.4f}\")\n",
        "print(f\"FNR: {FNR:.4f}\")\n",
        "\n",
        "print(\"\\nClassification Report:\")\n",
        "print(classification_report(y_test_flat, y_pred_flat, target_names=[\"Non-Smoker\", \"Smoker\"]))"
      ],
      "metadata": {
        "colab": {
          "base_uri": "https://localhost:8080/"
        },
        "id": "bExOhkK9rqzP",
        "outputId": "6e1d554d-9abd-4d36-8f5c-be845aaaee5d"
      },
      "execution_count": null,
      "outputs": [
        {
          "output_type": "stream",
          "name": "stdout",
          "text": [
            "\n",
            "Confusion Matrix:\n",
            "[[209   4]\n",
            " [  6  49]]\n",
            "\n",
            "TPR (Recall for smokers): 0.8909\n",
            "TNR (Recall for non-smokers): 0.9812\n",
            "FPR: 0.0188\n",
            "FNR: 0.1091\n",
            "\n",
            "Classification Report:\n",
            "              precision    recall  f1-score   support\n",
            "\n",
            "  Non-Smoker       0.97      0.98      0.98       213\n",
            "      Smoker       0.92      0.89      0.91        55\n",
            "\n",
            "    accuracy                           0.96       268\n",
            "   macro avg       0.95      0.94      0.94       268\n",
            "weighted avg       0.96      0.96      0.96       268\n",
            "\n"
          ]
        }
      ]
    },
    {
      "cell_type": "markdown",
      "source": [
        "The standard Logistic Regression model achieved an overall accuracy of 96.27%, a precision of 92.45%, recall of 89.09%, and F1-score of 0.907 for predicting smokers.\n",
        "\n",
        "The confusion matrix further supports this, with only 6 false negatives (actual smokers predicted as non-smokers) and 4 false positives (non-smokers predicted as smokers).\n",
        "\n",
        "The TPR (recall for smokers) is = 0.89, and the TNR is = 0.98, showing the model is highly effective at identifying both classes.\n",
        "\n",
        "Despite the class imbalance, the model handled the classification task well without any special balancing techniques."
      ],
      "metadata": {
        "id": "wr8NrbAluNZl"
      }
    },
    {
      "cell_type": "markdown",
      "source": [
        "## 7. Balanced Logistic Regression\n",
        "\n",
        "## Analyzing the Distribution of the Label Classes and Handling Class Imbalance"
      ],
      "metadata": {
        "id": "-xfUQGJWgEe6"
      }
    },
    {
      "cell_type": "code",
      "source": [
        "sns.countplot(x=y)\n",
        "plt.title(\"Target Class Distribution: Smoker vs. Non-Smoker\")\n",
        "plt.show()\n",
        "\n",
        "#Check actual counts\n",
        "print(y.value_counts(normalize=True))\n"
      ],
      "metadata": {
        "colab": {
          "base_uri": "https://localhost:8080/",
          "height": 541
        },
        "id": "s01jG0hCgGQ_",
        "outputId": "34c2480e-aa95-46fa-f39f-1515c1709a14"
      },
      "execution_count": null,
      "outputs": [
        {
          "output_type": "display_data",
          "data": {
            "text/plain": [
              "<Figure size 640x480 with 1 Axes>"
            ],
            "image/png": "[encoded data removed]"
          },
          "metadata": {}
        },
        {
          "output_type": "stream",
          "name": "stdout",
          "text": [
            "smoker\n",
            "0    0.795064\n",
            "1    0.204936\n",
            "Name: proportion, dtype: float64\n"
          ]
        }
      ]
    },
    {
      "cell_type": "markdown",
      "source": [
        "\"Smoker\" is a very unbalanced target variable, with only 20.49% of cases classified as smokers. The model may perform biasedly as a result of this imbalance, favoring the majority class (non-smokers) in its predictions.\n",
        "\n",
        "Class_weight='balanced' was used in the logistic regression model to address this. This method helps the model better recognize smokers by adjusting weights during training to give the minority class (smokers) greater weight."
      ],
      "metadata": {
        "id": "rB1oVKQlvmno"
      }
    },
    {
      "cell_type": "code",
      "source": [
        "#Train with class weights\n",
        "lr_balanced = LogisticRegression(max_iter=1000, class_weight='balanced')\n",
        "lr_balanced.fit(X_train_scaled, y_train)\n",
        "y_pred_bal = lr_balanced.predict(X_test_scaled)"
      ],
      "metadata": {
        "id": "ly3vJCJygNqg"
      },
      "execution_count": null,
      "outputs": []
    },
    {
      "cell_type": "code",
      "source": [
        "#Evaluate all metrics again\n",
        "print(\"Balanced Logistic Regression Accuracy:\", accuracy_score(y_test, y_pred_bal))\n",
        "print(\"Balanced Logistic Regression Precision:\", precision_score(y_test, y_pred_bal))\n",
        "print(\"Balanced Logistic Regression Recall:\", recall_score(y_test, y_pred_bal))\n",
        "print(\"Balanced Logistic Regression F1 Score:\", f1_score(y_test, y_pred_bal))"
      ],
      "metadata": {
        "colab": {
          "base_uri": "https://localhost:8080/"
        },
        "id": "RZTacJVswQSX",
        "outputId": "93d4d17e-cd25-4eef-fe25-c06655da1ab4"
      },
      "execution_count": null,
      "outputs": [
        {
          "output_type": "stream",
          "name": "stdout",
          "text": [
            "Balanced Logistic Regression Accuracy: 0.9813432835820896\n",
            "Balanced Logistic Regression Precision: 0.9166666666666666\n",
            "Balanced Logistic Regression Recall: 1.0\n",
            "Balanced Logistic Regression F1 Score: 0.9565217391304348\n"
          ]
        }
      ]
    },
    {
      "cell_type": "code",
      "source": [
        "#confusion matrix and classification report\n",
        "from sklearn.metrics import confusion_matrix, classification_report\n",
        "\n",
        "#compute the confusion matrix\n",
        "cm = confusion_matrix(y_test, y_pred_bal)\n",
        "\n",
        "#print the confusion matrix\n",
        "print(\"Confusion Matrix:\")\n",
        "print(cm)\n",
        "\n",
        "#print the classification report\n",
        "print(\"\\nClassification Report:\")\n",
        "print(classification_report(y_test, y_pred_bal, target_names=[\"Non-Smoker\", \"Smoker\"]))\n"
      ],
      "metadata": {
        "colab": {
          "base_uri": "https://localhost:8080/"
        },
        "id": "E9WqN6iAynsk",
        "outputId": "97dbc732-7a4a-4c96-ef67-55a53c6aeea9"
      },
      "execution_count": null,
      "outputs": [
        {
          "output_type": "stream",
          "name": "stdout",
          "text": [
            "Confusion Matrix:\n",
            "[[208   5]\n",
            " [  0  55]]\n",
            "\n",
            "Classification Report:\n",
            "              precision    recall  f1-score   support\n",
            "\n",
            "  Non-Smoker       1.00      0.98      0.99       213\n",
            "      Smoker       0.92      1.00      0.96        55\n",
            "\n",
            "    accuracy                           0.98       268\n",
            "   macro avg       0.96      0.99      0.97       268\n",
            "weighted avg       0.98      0.98      0.98       268\n",
            "\n"
          ]
        }
      ]
    },
    {
      "cell_type": "markdown",
      "source": [
        "By applying class_weight='balanced', the logistic regression model achieved an accuracy of 98.13%, a precision of 91.66%, a recall of 100% for the smoker class and an F1-score of 0.956. This means the model correctly identified every smoker in the test set, significantly reducing the risk of false negatives.\n",
        "\n",
        "The confusion matrix confirms this, showing 0 false negatives and only 5 false positives. While this slightly reduced precision (91.66%), the trade-off resulted in perfect smoker recall, making the model highly sensitive to the minority class, which was actually the goal of rebalancing.\n"
      ],
      "metadata": {
        "id": "wHUVlbmjyaDH"
      }
    },
    {
      "cell_type": "markdown",
      "source": [
        "## 8. Improving with the Grid Search Logistic Regression and Regularization"
      ],
      "metadata": {
        "id": "j6s_T3t4gXnt"
      }
    },
    {
      "cell_type": "code",
      "source": [
        "from sklearn.model_selection import GridSearchCV\n",
        "from sklearn.linear_model import LogisticRegression\n",
        "\n",
        "#define parameter grid\n",
        "param_grid = {\n",
        "    'C': [0.01, 0.1, 1, 10, 100],\n",
        "    'penalty': ['l1', 'l2'],\n",
        "    'solver': ['liblinear'],\n",
        "    'class_weight': ['balanced']\n",
        "}\n",
        "\n",
        "#grid search with 5-fold cross-validation\n",
        "grid = GridSearchCV(\n",
        "    LogisticRegression(max_iter=1000),\n",
        "    param_grid,\n",
        "    scoring='f1',\n",
        "    cv=5,\n",
        "    verbose=1,\n",
        "    n_jobs=-1\n",
        ")\n",
        "\n",
        "grid.fit(X_train_scaled, y_train)\n",
        "\n",
        "#predict using the best model\n",
        "y_pred_grid = grid.best_estimator_.predict(X_test_scaled)\n"
      ],
      "metadata": {
        "colab": {
          "base_uri": "https://localhost:8080/"
        },
        "id": "0TJQYArxgfTh",
        "outputId": "1fd6fb7e-c6a6-4256-d66d-cfb826694bf1"
      },
      "execution_count": null,
      "outputs": [
        {
          "output_type": "stream",
          "name": "stdout",
          "text": [
            "Fitting 5 folds for each of 10 candidates, totalling 50 fits\n"
          ]
        }
      ]
    },
    {
      "cell_type": "code",
      "source": [
        "#Model Evaluation\n",
        "from sklearn.metrics import accuracy_score, precision_score, recall_score, f1_score, confusion_matrix, classification_report\n",
        "\n",
        "#evaluation metrics\n",
        "print(\"Best Parameters:\", grid.best_params_)\n",
        "print(\"Accuracy:\", accuracy_score(y_test, y_pred_grid))\n",
        "print(\"Precision:\", precision_score(y_test, y_pred_grid))\n",
        "print(\"Recall:\", recall_score(y_test, y_pred_grid))\n",
        "print(\"F1 Score:\", f1_score(y_test, y_pred_grid))"
      ],
      "metadata": {
        "colab": {
          "base_uri": "https://localhost:8080/"
        },
        "id": "XDWBj1mA0WpE",
        "outputId": "0df2fd5a-5ffb-4897-8c7a-e06ce06f64c3"
      },
      "execution_count": null,
      "outputs": [
        {
          "output_type": "stream",
          "name": "stdout",
          "text": [
            "Best Parameters: {'C': 100, 'class_weight': 'balanced', 'penalty': 'l1', 'solver': 'liblinear'}\n",
            "Accuracy: 0.9850746268656716\n",
            "Precision: 0.9322033898305084\n",
            "Recall: 1.0\n",
            "F1 Score: 0.9649122807017544\n"
          ]
        }
      ]
    },
    {
      "cell_type": "code",
      "source": [
        "#confusion matrix and classification report\n",
        "print(\"\\nConfusion Matrix:\")\n",
        "print(confusion_matrix(y_test, y_pred_grid))\n",
        "\n",
        "print(\"\\nClassification Report:\")\n",
        "print(classification_report(y_test, y_pred_grid, target_names=[\"Non-Smoker\", \"Smoker\"]))"
      ],
      "metadata": {
        "colab": {
          "base_uri": "https://localhost:8080/"
        },
        "id": "iCESUJrD0x9E",
        "outputId": "46e5cb6e-6c86-41e6-f817-990103d93c8b"
      },
      "execution_count": null,
      "outputs": [
        {
          "output_type": "stream",
          "name": "stdout",
          "text": [
            "\n",
            "Confusion Matrix:\n",
            "[[209   4]\n",
            " [  0  55]]\n",
            "\n",
            "Classification Report:\n",
            "              precision    recall  f1-score   support\n",
            "\n",
            "  Non-Smoker       1.00      0.98      0.99       213\n",
            "      Smoker       0.93      1.00      0.96        55\n",
            "\n",
            "    accuracy                           0.99       268\n",
            "   macro avg       0.97      0.99      0.98       268\n",
            "weighted avg       0.99      0.99      0.99       268\n",
            "\n"
          ]
        }
      ]
    },
    {
      "cell_type": "markdown",
      "source": [
        "Using Grid Search with 5-fold cross-validation, the best logistic regression configuration was found to be:\n",
        "C=100, penalty='l1', solver='liblinear', class_weight='balanced'.\n",
        "\n",
        "This model achieved an accuracy of 98.51%, a precision of 93.22%, a recall of 100%, and an F1-score of 0.9649 for smokers.\n",
        "\n",
        "The confusion matrix confirms excellent results, with no false negatives and only 4 false positives.\n"
      ],
      "metadata": {
        "id": "K_xD5G-T1AZP"
      }
    },
    {
      "cell_type": "markdown",
      "source": [
        "## 9. AdaBoost"
      ],
      "metadata": {
        "id": "a1U2-gpKgj06"
      }
    },
    {
      "cell_type": "code",
      "source": [
        "from sklearn.ensemble import AdaBoostClassifier\n",
        "from sklearn.metrics import accuracy_score, precision_score, recall_score, f1_score, confusion_matrix, classification_report\n",
        "\n",
        "#Initialize AdaBoost\n",
        "ada = AdaBoostClassifier(n_estimators=100, random_state=42)\n",
        "ada.fit(X_train_scaled, y_train)\n",
        "\n",
        "#Predict\n",
        "y_pred_ada = ada.predict(X_test_scaled)"
      ],
      "metadata": {
        "id": "V2AgX7eAglIY"
      },
      "execution_count": null,
      "outputs": []
    },
    {
      "cell_type": "code",
      "source": [
        "#Evaluation metrics\n",
        "print(\"AdaBoost Accuracy:\", accuracy_score(y_test, y_pred_ada))\n",
        "print(\"AdaBoost Precision:\", precision_score(y_test, y_pred_ada))\n",
        "print(\"AdaBoost Recall:\", recall_score(y_test, y_pred_ada))\n",
        "print(\"AdaBoost F1 Score:\", f1_score(y_test, y_pred_ada))"
      ],
      "metadata": {
        "colab": {
          "base_uri": "https://localhost:8080/"
        },
        "id": "fJRA64KU1oAu",
        "outputId": "a99aba6d-64a7-4051-aa06-faf17b16b843"
      },
      "execution_count": null,
      "outputs": [
        {
          "output_type": "stream",
          "name": "stdout",
          "text": [
            "AdaBoost Accuracy: 0.9626865671641791\n",
            "AdaBoost Precision: 0.9411764705882353\n",
            "AdaBoost Recall: 0.8727272727272727\n",
            "AdaBoost F1 Score: 0.9056603773584906\n"
          ]
        }
      ]
    },
    {
      "cell_type": "code",
      "source": [
        "#confusion matrix and classification report\n",
        "print(\"\\nConfusion Matrix:\")\n",
        "print(confusion_matrix(y_test, y_pred_ada))\n",
        "\n",
        "print(\"\\nClassification Report:\")\n",
        "print(classification_report(y_test, y_pred_ada, target_names=[\"Non-Smoker\", \"Smoker\"]))"
      ],
      "metadata": {
        "colab": {
          "base_uri": "https://localhost:8080/"
        },
        "id": "v8labyoK1sE8",
        "outputId": "583bedf9-6aa1-4782-8f9f-064c70b25c04"
      },
      "execution_count": null,
      "outputs": [
        {
          "output_type": "stream",
          "name": "stdout",
          "text": [
            "\n",
            "Confusion Matrix:\n",
            "[[210   3]\n",
            " [  7  48]]\n",
            "\n",
            "Classification Report:\n",
            "              precision    recall  f1-score   support\n",
            "\n",
            "  Non-Smoker       0.97      0.99      0.98       213\n",
            "      Smoker       0.94      0.87      0.91        55\n",
            "\n",
            "    accuracy                           0.96       268\n",
            "   macro avg       0.95      0.93      0.94       268\n",
            "weighted avg       0.96      0.96      0.96       268\n",
            "\n"
          ]
        }
      ]
    },
    {
      "cell_type": "markdown",
      "source": [
        "The AdaBoost model achieved an overall accuracy of 96.27%, a precision of 94.12%, recall of 87.27%, and an F1-score of 0.9057 for the smoker class. While the precision is slightly higher than that of the standard logistic regression model, the recall is lower (the model missed 7 smokers).\n",
        "\n",
        "The confusion matrix reflects this trade-off: while false positives were less (3 non-smokers misclassified as smokers), the model produced 7 false negatives, failing to identify some actual smokers.\n",
        "\n",
        "AdaBoost offers a balanced but slightly conservative approach, prioritizing precision over recall.\n"
      ],
      "metadata": {
        "id": "RetFvDfR15bC"
      }
    },
    {
      "cell_type": "markdown",
      "source": [
        "Overall, while AdaBoost performs competitively, it doesn't outperform the best-tuned logistic regression model, especially in recall and F1-score, which are key priorities in this classification task."
      ],
      "metadata": {
        "id": "SmT7ey1sBvun"
      }
    },
    {
      "cell_type": "markdown",
      "source": [
        "## 10. Resampling - Logistic Regression with SMOTE"
      ],
      "metadata": {
        "id": "n6KogsDFCupU"
      }
    },
    {
      "cell_type": "code",
      "source": [
        "from imblearn.over_sampling import SMOTE\n",
        "from sklearn.linear_model import LogisticRegression\n",
        "from sklearn.metrics import classification_report, confusion_matrix\n",
        "\n",
        "#Apply SMOTE\n",
        "smote = SMOTE(random_state=42)\n",
        "X_smote, y_smote = smote.fit_resample(X_train_scaled, y_train)\n",
        "\n"
      ],
      "metadata": {
        "id": "W3JmtGvHC17c"
      },
      "execution_count": null,
      "outputs": []
    },
    {
      "cell_type": "code",
      "source": [
        "#Train logistic regression WITHOUT class_weight\n",
        "lr_smote = LogisticRegression(max_iter=1000)\n",
        "lr_smote.fit(X_smote, y_smote)\n",
        "\n",
        "#Predict on original (unbalanced) test set\n",
        "y_pred_smote = lr_smote.predict(X_test_scaled)\n"
      ],
      "metadata": {
        "id": "2MzM5KvYC4qg"
      },
      "execution_count": null,
      "outputs": []
    },
    {
      "cell_type": "code",
      "source": [
        "#Model Evaluation\n",
        "from sklearn.metrics import accuracy_score, precision_score, recall_score, f1_score\n",
        "\n",
        "#evaluation metrics\n",
        "accuracy = accuracy_score(y_test, y_pred_smote)\n",
        "precision = precision_score(y_test, y_pred_smote)\n",
        "recall = recall_score(y_test, y_pred_smote)\n",
        "f1 = f1_score(y_test, y_pred_smote)\n",
        "\n",
        "print(\"SMOTE Logistic Regression Accuracy:\", round(accuracy, 4))\n",
        "print(\"SMOTE Logistic Regression Precision:\", round(precision, 4))\n",
        "print(\"SMOTE Logistic Regression Recall:\", round(recall, 4))\n",
        "print(\"SMOTE Logistic Regression F1 Score:\", round(f1, 4))\n"
      ],
      "metadata": {
        "colab": {
          "base_uri": "https://localhost:8080/"
        },
        "id": "TJUKJMaqDB3o",
        "outputId": "1d82de9c-70b7-4ec4-a622-66e4077202a6"
      },
      "execution_count": null,
      "outputs": [
        {
          "output_type": "stream",
          "name": "stdout",
          "text": [
            "SMOTE Logistic Regression Accuracy: 0.9813\n",
            "SMOTE Logistic Regression Precision: 0.9167\n",
            "SMOTE Logistic Regression Recall: 1.0\n",
            "SMOTE Logistic Regression F1 Score: 0.9565\n"
          ]
        }
      ]
    },
    {
      "cell_type": "code",
      "source": [
        "#confusion matrix and classification report\n",
        "print(confusion_matrix(y_test, y_pred_smote))\n",
        "print(classification_report(y_test, y_pred_smote, target_names=[\"Non-Smoker\", \"Smoker\"]))"
      ],
      "metadata": {
        "colab": {
          "base_uri": "https://localhost:8080/"
        },
        "id": "m8T0kXEoC6KO",
        "outputId": "5043ae5a-e025-4029-d9f1-792c20f4e8c2"
      },
      "execution_count": null,
      "outputs": [
        {
          "output_type": "stream",
          "name": "stdout",
          "text": [
            "[[208   5]\n",
            " [  0  55]]\n",
            "              precision    recall  f1-score   support\n",
            "\n",
            "  Non-Smoker       1.00      0.98      0.99       213\n",
            "      Smoker       0.92      1.00      0.96        55\n",
            "\n",
            "    accuracy                           0.98       268\n",
            "   macro avg       0.96      0.99      0.97       268\n",
            "weighted avg       0.98      0.98      0.98       268\n",
            "\n"
          ]
        }
      ]
    },
    {
      "cell_type": "markdown",
      "source": [
        "SMOTE was applied to address the imbalance between smokers and non-smokers by generating synthetic examples of the minority class. This helped the model better learn smoker patterns without relying solely on class weighting.\n",
        "\n",
        "SMOTE achieved similar performance to the class-weighted and grid-tuned models, proving to be a reliable data-level solution for handling class imbalance, while maintaining perfect recall and a high F1-score."
      ],
      "metadata": {
        "id": "wDSqrAkmDdgC"
      }
    },
    {
      "cell_type": "markdown",
      "source": [
        "## 11. Model Performance Comparison Table"
      ],
      "metadata": {
        "id": "wSW2p0nc4Cg3"
      }
    },
    {
      "cell_type": "code",
      "source": [
        "import pandas as pd\n",
        "from sklearn.metrics import accuracy_score, precision_score, recall_score, f1_score\n",
        "\n",
        "#create a list of dictionaries for each model's results\n",
        "results = [\n",
        "    {\n",
        "        \"Model\": \"Logistic Regression\",\n",
        "        \"Accuracy\": accuracy_score(y_test, y_pred),\n",
        "        \"Precision\": precision_score(y_test, y_pred),\n",
        "        \"Recall\": recall_score(y_test, y_pred),\n",
        "        \"F1 Score\": f1_score(y_test, y_pred)\n",
        "    },\n",
        "    {\n",
        "        \"Model\": \"Balanced Logistic Regression\",\n",
        "        \"Accuracy\": accuracy_score(y_test, y_pred_bal),\n",
        "        \"Precision\": precision_score(y_test, y_pred_bal),\n",
        "        \"Recall\": recall_score(y_test, y_pred_bal),\n",
        "        \"F1 Score\": f1_score(y_test, y_pred_bal)\n",
        "    },\n",
        "    {\n",
        "        \"Model\": \"Grid Search Logistic Regression\",\n",
        "        \"Accuracy\": accuracy_score(y_test, y_pred_grid),\n",
        "        \"Precision\": precision_score(y_test, y_pred_grid),\n",
        "        \"Recall\": recall_score(y_test, y_pred_grid),\n",
        "        \"F1 Score\": f1_score(y_test, y_pred_grid)\n",
        "    },\n",
        "    {\n",
        "        \"Model\": \"AdaBoost\",\n",
        "        \"Accuracy\": accuracy_score(y_test, y_pred_ada),\n",
        "        \"Precision\": precision_score(y_test, y_pred_ada),\n",
        "        \"Recall\": recall_score(y_test, y_pred_ada),\n",
        "        \"F1 Score\": f1_score(y_test, y_pred_ada)\n",
        "    },\n",
        "    {\n",
        "        \"Model\": \"Logistic Regression (SMOTE)\",\n",
        "        \"Accuracy\": accuracy_score(y_test, y_pred_smote),\n",
        "        \"Precision\": precision_score(y_test, y_pred_smote),\n",
        "        \"Recall\": recall_score(y_test, y_pred_smote),\n",
        "        \"F1 Score\": f1_score(y_test, y_pred_smote)\n",
        "    }\n",
        "]\n",
        "\n",
        "#create DataFrame\n",
        "results_df = pd.DataFrame(results)\n",
        "\n",
        "#rounding\n",
        "results_df[['Accuracy', 'Precision', 'Recall', 'F1 Score']] = results_df[['Accuracy', 'Precision', 'Recall', 'F1 Score']].round(4)\n",
        "\n",
        "#print the comparison table\n",
        "print(\"\\nModel Performance Comparison:\")\n",
        "print(results_df)\n"
      ],
      "metadata": {
        "colab": {
          "base_uri": "https://localhost:8080/"
        },
        "id": "4CAnZ2qv4KSq",
        "outputId": "05e280ae-d3a3-4959-e802-6e5cad215e67"
      },
      "execution_count": null,
      "outputs": [
        {
          "output_type": "stream",
          "name": "stdout",
          "text": [
            "\n",
            "Model Performance Comparison:\n",
            "                             Model  Accuracy  Precision  Recall  F1 Score\n",
            "0              Logistic Regression    0.9627     0.9245  0.8909    0.9074\n",
            "1     Balanced Logistic Regression    0.9813     0.9167  1.0000    0.9565\n",
            "2  Grid Search Logistic Regression    0.9851     0.9322  1.0000    0.9649\n",
            "3                         AdaBoost    0.9627     0.9412  0.8727    0.9057\n",
            "4      Logistic Regression (SMOTE)    0.9813     0.9167  1.0000    0.9565\n"
          ]
        }
      ]
    },
    {
      "cell_type": "markdown",
      "source": [
        "## 12. Final Answer"
      ],
      "metadata": {
        "id": "bQgyau-r2UBz"
      }
    },
    {
      "cell_type": "markdown",
      "source": [
        "After evaluating several models, the best-performing configuration was obtained using Grid Search Logistic Regression with the following settings:\n",
        "\n",
        "C = 100, Penalty = L1, Solver = liblinear, class_weight = 'balanced'\n",
        "\n",
        "This model achieved the highest F1-score (0.9649), the perfect recall (1.00) and a strong precision (93.22%) and an accuracy (98.51%), making it the most balanced and effective model for detecting smokers in an imbalanced dataset.\n",
        "\n",
        "Interestingly, the SMOTE-based logistic regression also performed very well, achieving the same recall (1.00), F1-score (0.9565), accuracy (98.13%), and precision (91.67%) as the class-weighted logistic model, proving it to be a reliable data-level alternative.\n",
        "\n",
        "However, Grid Search performed the best, particularly in precision and overall accuracy."
      ],
      "metadata": {
        "id": "tkfYbdi52fkm"
      }
    },
    {
      "cell_type": "markdown",
      "source": [
        "## 13. Conclusion"
      ],
      "metadata": {
        "id": "d-6pmoHQ2qJR"
      }
    },
    {
      "cell_type": "markdown",
      "source": [
        "To conclude and summarize, the Grid Search Logistic Regression model with tuned regularization and balanced class weights delivered the most accurate and fair classification of smokers and non-smokers. Its ability to combine perfect recall with high precision ensures both sensitivity and reliability, which is especially critical in healthcare applications where identifying smokers correctly can influence early intervention and policy decisions.\n",
        "\n",
        "This model is recommended as the final choice for deployment, as it maintains robustness against class imbalance and generalizes well to unseen data."
      ],
      "metadata": {
        "id": "9RV6suS22s-n"
      }
    }
  ]
}